{
 "cells": [
  {
   "cell_type": "markdown",
   "id": "348acc51",
   "metadata": {},
   "source": [
    "# Prologue\n",
    "\n",
    "### This prologue chapter will describe what progress is made and what experiments are tried before the individual project is getting started.\n",
    "\n",
    "I started this semester by looking through some of the datasets on Kaggle, but most of these datasets have many features and lots of data. But with all beginnings it is a good thing to start with something easy to predict and visualize.\n",
    "\n",
    "The main experiment in the prologue will be trying to find a Kaggle dataset that has atleast a a little bit of a linear connection with the outcome and a single feature. This makes it possible to try out one of the simplest machine learning algorithms, Linear Regression. Because linear regression with only a single feature is so simple compared to the other algorithms  the plan is to write all the code for this algorithm from scratch to try and get a deeper understanding of how a computer can 'learn' things. Then later when the individual project is started the hope is that this deeper understanding can help me when I start using libraries to do the machine learning algorithms for me."
   ]
  },
  {
   "cell_type": "markdown",
   "id": "09bef2d2",
   "metadata": {},
   "source": [
    "## Prologue backlog\n",
    "Things to do during the prologue chapter:\n",
    "- [x] Create a Jupyter notebook\n",
    "- [x] Find a dataset with a possible linear correlation\n",
    "- [x] Split the data in training and test data\n",
    "- [x] Write the linear regression code\n",
    "- [x] Train and test with the data\n",
    "- [x] Visualize the results "
   ]
  },
  {
   "cell_type": "markdown",
   "id": "616fac87",
   "metadata": {},
   "source": [
    "## The dataset\n",
    "\n",
    "Prior to this prologue I watched a few videos on linear regression to get an idea about how it works and the the math involved.\n",
    "[Linear Regression with Ordinary Least Squares Part 1](https://www.youtube.com/watchv=szXbuO3bVRk&ab_channel=TheCodingTrain)\n",
    "In this video series from the coding train he uses the example of the linear connection between the temperature outside and the amount of ice cream sold. Of course many more features could be included such as the day of the week, humidity etc and it would likely give a more accurate prediction, but for learning purposes and to get started with linear regression just looking at the temperature will suffice. \n",
    "\n",
    "Kaggle has a lot of complicated datasets and after looking at datasets for a while before starting this prologue I decided to just look for the example given in the Coding Train video. And this is the dataset I found: [Ice Cream Revenue](https://www.kaggle.com/datasets/vinicius150987/ice-cream-revenue). The only problem I have with this dataset is that it only includes the temperature and the revenue. I would have liked more features to try and make a correlation heatmap to see if the temperature would be the biggest factor in determining the revenue. I will still try to do it with this dataset just to see what happens.\n",
    "\n",
    "The revenue in the dataset is in US dollars and the temperature is in degrees Celcius."
   ]
  },
  {
   "cell_type": "code",
   "execution_count": 5,
   "id": "3144498d",
   "metadata": {
    "scrolled": true
   },
   "outputs": [
    {
     "name": "stdout",
     "output_type": "stream",
     "text": [
      "Shape: (500, 2)\n"
     ]
    },
    {
     "data": {
      "text/html": [
       "<div>\n",
       "<style scoped>\n",
       "    .dataframe tbody tr th:only-of-type {\n",
       "        vertical-align: middle;\n",
       "    }\n",
       "\n",
       "    .dataframe tbody tr th {\n",
       "        vertical-align: top;\n",
       "    }\n",
       "\n",
       "    .dataframe thead th {\n",
       "        text-align: right;\n",
       "    }\n",
       "</style>\n",
       "<table border=\"1\" class=\"dataframe\">\n",
       "  <thead>\n",
       "    <tr style=\"text-align: right;\">\n",
       "      <th></th>\n",
       "      <th>Temperature</th>\n",
       "      <th>Revenue</th>\n",
       "    </tr>\n",
       "  </thead>\n",
       "  <tbody>\n",
       "    <tr>\n",
       "      <th>0</th>\n",
       "      <td>24.566884</td>\n",
       "      <td>534.799028</td>\n",
       "    </tr>\n",
       "    <tr>\n",
       "      <th>1</th>\n",
       "      <td>26.005191</td>\n",
       "      <td>625.190122</td>\n",
       "    </tr>\n",
       "    <tr>\n",
       "      <th>2</th>\n",
       "      <td>27.790554</td>\n",
       "      <td>660.632289</td>\n",
       "    </tr>\n",
       "    <tr>\n",
       "      <th>3</th>\n",
       "      <td>20.595335</td>\n",
       "      <td>487.706960</td>\n",
       "    </tr>\n",
       "    <tr>\n",
       "      <th>4</th>\n",
       "      <td>11.503498</td>\n",
       "      <td>316.240194</td>\n",
       "    </tr>\n",
       "  </tbody>\n",
       "</table>\n",
       "</div>"
      ],
      "text/plain": [
       "   Temperature     Revenue\n",
       "0    24.566884  534.799028\n",
       "1    26.005191  625.190122\n",
       "2    27.790554  660.632289\n",
       "3    20.595335  487.706960\n",
       "4    11.503498  316.240194"
      ]
     },
     "execution_count": 5,
     "metadata": {},
     "output_type": "execute_result"
    }
   ],
   "source": [
    "import pandas as pd\n",
    "\n",
    "# df = dataframe (Data sturcture in pandas)\n",
    "df = pd.read_csv('Datasets/IceCreamData.csv')\n",
    "print('Shape: ' + str(df.shape))\n",
    "df.head()"
   ]
  },
  {
   "cell_type": "markdown",
   "id": "4f13055b",
   "metadata": {},
   "source": [
    "## Splitting the dataset\n",
    "\n",
    "To have unseen data to verify the results the data will be split up in training and test data. For now the data will be arbitrarily split into **80% training data and 20% test data**."
   ]
  },
  {
   "cell_type": "code",
   "execution_count": 6,
   "id": "1bf32cca",
   "metadata": {},
   "outputs": [
    {
     "name": "stdout",
     "output_type": "stream",
     "text": [
      "Training data shape: (400, 2)\n",
      "Test data shape: (100, 2)\n",
      "Split percentage (Training|Test) (80|20)\n"
     ]
    }
   ],
   "source": [
    "from sklearn.model_selection import train_test_split\n",
    "import math\n",
    "\n",
    "train_data, test_data = train_test_split(df, test_size=0.2)\n",
    "print('Training data shape: {}'.format(train_data.shape))\n",
    "print('Test data shape: {}'.format(test_data.shape))\n",
    "train_percent = math.floor(train_data.shape[0] / df.shape[0] * 100)\n",
    "test_percent = math.floor(test_data.shape[0] / df.shape[0] * 100)\n",
    "print('Split percentage (Training|Test) ({}|{})'.format(train_percent, test_percent))"
   ]
  },
  {
   "cell_type": "markdown",
   "id": "5bebe055",
   "metadata": {},
   "source": [
    "## Plotting the dataset and predictions\n",
    "\n",
    "I am going to plot the dataset to see if there is a linear correlation between the temperature and the revenue. The expectation is that there will be a linear correlation since the description of this dataset in Kaggle mentioned that the dataset 'is a simple sample dataset for training'. There could be a few outliers because the data is split up on revenue per day, but it also could be removed by the owner of the dataset because the dataset is just for beginners to get started.\n",
    "\n",
    "And obviously the expectation is that the higher the temperature the higher the revenue will be. This means that the line that will be predicted will look something like this: <img alt=\"Expected Line\" src=\"Images/TemperatureRevenueExpected.png\" style=\"transform:rotate(180deg)\"/>\n",
    "\n",
    "The formula for a line is \\begin{equation} y = mx + b\n",
    "\\end{equation} and my prediction is that the value for b is going to be low as it is the intersection with the y-axis or the value when x = 0 which in this case means 0 degrees celcius."
   ]
  },
  {
   "cell_type": "code",
   "execution_count": 7,
   "id": "55f5ed81",
   "metadata": {
    "scrolled": true
   },
   "outputs": [
    {
     "data": {
      "image/png": "[encoded data removed]",
      "text/plain": [
       "<Figure size 432x288 with 1 Axes>"
      ]
     },
     "metadata": {
      "needs_background": "light"
     },
     "output_type": "display_data"
    }
   ],
   "source": [
    "import matplotlib.pyplot as plt\n",
    "\n",
    "# layout for all the graphs\n",
    "plt_bg_color = '#303845'\n",
    "plt_alpha = 0.08\n",
    "plt_outline_color = 'white'\n",
    "\n",
    "def setup_layout():\n",
    "    fig = plt.figure()\n",
    "    fig.patch.set_facecolor(plt_outline_color)\n",
    "    fig.patch.set_alpha(plt_alpha)\n",
    "    ax = fig.add_subplot(1,1,1)\n",
    "    ax.set_facecolor(plt_bg_color)\n",
    "\n",
    "def setup_graph():\n",
    "    plt.xlabel('Temparature')\n",
    "    plt.ylabel('Revenue')\n",
    "    plt.legend(loc='upper left')\n",
    "    plt.show()\n",
    "    \n",
    "setup_layout()\n",
    "plt.title('The complete dataset')\n",
    "plt.scatter(df['Temperature'], df['Revenue'], color = '#2071A9', label = 'All data')\n",
    "setup_graph()"
   ]
  },
  {
   "cell_type": "markdown",
   "id": "4750370d",
   "metadata": {},
   "source": [
    "As expected the data points are clearly scattered in close proximity of a line. There are also no real outliers, which is not what I hoped because I would have liked to get some practice removing outliers from the dataset."
   ]
  },
  {
   "cell_type": "markdown",
   "id": "5e8ab95b",
   "metadata": {},
   "source": [
    "## Linear regression\n",
    "\n",
    "In my understanding linear regression is a way for a machine to try and find the best linear formule for the training data that is given. Where the x-axis is the feature that is used for the prediction and the y-axis the value that is being predicted. The formula for a line is y = mx + b and since x is the input linear regression tries to find the best m and b value for the given data. After the best line for the data is found new input data can be given and the line can predict what the output will be.  \n",
    "\n",
    "There also seem to be multiple methods to apply linear regression:\n",
    "* Ordinary least squares\n",
    "* Gradient descend\n",
    "\n",
    "There might me more than the once listed above but these are the ones I found so far.\n",
    "For this prologue I am atleast going to look at the ordinary least squares method first, because I already looked at gradient descend before starting this semester and the math can become very complex and gradient descend can also be used when training a neural network, so maybe something to look at later in the semester."
   ]
  },
  {
   "cell_type": "markdown",
   "id": "961a5d49",
   "metadata": {},
   "source": [
    "## Ordinary least squares\n",
    "\n",
    "Ordinary least squares (OLS) is a way of estimating the unknown parameters (m and b) in a linear regression model. The algorithm that I am going to use for OLS is: ![OLS algorithm](Images/OlsCalcM.png)This algorithm was explained in part 2 of the Coding Train series [Linear Regression with Ordinary Least Squares Part 2 ](https://www.youtube.com/watch?v=_cXuvTQl090&ab_channel=TheCodingTrain) The algorithm looks at the squared sum of all the errors and tries to minimize the sum. The errors get squared to make the negative numbers (the errors below the predicted line) not cancel out the positive errors above the line. \n",
    "\n",
    "![OLS error](Images/OlsError.png)\n",
    "\n",
    "The OLS algorithm needs the average of all the x and y values so I get those from the training data."
   ]
  },
  {
   "cell_type": "code",
   "execution_count": 8,
   "id": "e48ef167",
   "metadata": {
    "scrolled": true
   },
   "outputs": [
    {
     "name": "stdout",
     "output_type": "stream",
     "text": [
      "x average: 22.332373478660003 | y average: 523.6552728496249 \n"
     ]
    }
   ],
   "source": [
    "# There must be a more proper way to get the average of a DataFrame / series\n",
    "\n",
    "x_train_data = train_data.loc[:,'Temperature'].tolist()\n",
    "y_train_data = train_data.loc[:, 'Revenue'].tolist()\n",
    "x_avg = sum(x_train_data) / len(x_train_data)\n",
    "y_avg = sum(y_train_data) / len(y_train_data)\n",
    "print('x average: {} | y average: {} '.format(x_avg, y_avg))"
   ]
  },
  {
   "cell_type": "markdown",
   "id": "1a3df985",
   "metadata": {},
   "source": [
    "After calculating the averages it is possible to apply the rest of the formula on the training data.\n",
    "m is calculated with the formule shown earlier.\n",
    "When m is known b is easy to calculate. Because a linear formula is **y = mx+b**, which can be written as **b + mx = y** if both sides are reduced with mx we get the formula for b. **b = y - mx**"
   ]
  },
  {
   "cell_type": "code",
   "execution_count": 9,
   "id": "fe6c006a",
   "metadata": {},
   "outputs": [
    {
     "name": "stdout",
     "output_type": "stream",
     "text": [
      "y = 21.31 * x + 47.66\n"
     ]
    }
   ],
   "source": [
    "m = b = 0\n",
    "\n",
    "# Ordinary least squares\n",
    "numerator = 0 # teller\n",
    "denominator = 0 # noemer\n",
    "for i in range(len(x_train_data)):\n",
    "    x = x_train_data[i]\n",
    "    y = y_train_data[i]\n",
    "    numerator += (x - x_avg) * (y - y_avg)\n",
    "    denominator += (x - x_avg) ** 2\n",
    "m = numerator / denominator # could be scary if denominator is 0, but that is very unlikely \n",
    "b = y_avg - m * x_avg\n",
    "\n",
    "print('y = {} * x + {}'.format(round(m,2), round(b,2)))"
   ]
  },
  {
   "cell_type": "markdown",
   "id": "d3791a36",
   "metadata": {},
   "source": [
    "If I did it right the best m value for the line is approximately **21.27** and the best b value would be approximately **49.18**. I don't have an idea on how to check if this is good or not or how to give it an accuracy score. But a good first indication might be too look at the average error between all points in the training and test data. The average error in the training data should be lower, but it might not be a huge difference without the outliers and a data set that fits linear regression so well.\n",
    "> After re-running the Kernel it seems that the data that is taken when splitting is random. This means that the results are not exactly the same everytime the Kernel runs."
   ]
  },
  {
   "cell_type": "code",
   "execution_count": 10,
   "id": "d85bf825",
   "metadata": {},
   "outputs": [
    {
     "name": "stdout",
     "output_type": "stream",
     "text": [
      "Average error in training data: 19.66 \n",
      "Average error in test data: 19.38\n"
     ]
    }
   ],
   "source": [
    "avg_error_train = 0;\n",
    "for i in range(len(x_train_data)):\n",
    "    x = x_train_data[i]\n",
    "    y = y_train_data[i]\n",
    "    avg_error_train += abs(y - (m * x + b))\n",
    "\n",
    "avg_error_train /= len(x_train_data)\n",
    "\n",
    "\n",
    "x_test_data = test_data.loc[:,'Temperature'].tolist()\n",
    "y_test_data = test_data.loc[:, 'Revenue'].tolist()\n",
    "avg_error_test = 0;\n",
    "\n",
    "for i in range(len(x_test_data)):\n",
    "    x = x_test_data[i]\n",
    "    y = y_test_data[i]\n",
    "    avg_error_test += abs(y - (m * x + b))\n",
    "\n",
    "avg_error_test /= len(x_test_data)\n",
    "\n",
    "print('Average error in training data: {} \\nAverage error in test data: {}'\n",
    "      .format(round(avg_error_train,2), round(avg_error_test,2)))"
   ]
  },
  {
   "cell_type": "markdown",
   "id": "e2fcdca5",
   "metadata": {},
   "source": [
    "To figure out if what I did was even remotely right I will try to loop through all reasonable values for m and b to see if I can find a line that can better represent the data. I get that this method is flawed because I it will only loop through integer numbers an ignore decimal values. But it still should give an indication if the line that I found is reasonable."
   ]
  },
  {
   "cell_type": "code",
   "execution_count": 11,
   "id": "415acd27",
   "metadata": {
    "scrolled": false
   },
   "outputs": [
    {
     "name": "stdout",
     "output_type": "stream",
     "text": [
      "Lowest error found: 19.748426774230012\n",
      "LOS error: 19.661687182773488\n",
      "Difference: 0.08673959145652432\n"
     ]
    }
   ],
   "source": [
    "# bf = brute force\n",
    "avg_error_bf = avg_error_train + 1;  \n",
    "bf_errors = []\n",
    "\n",
    "\n",
    "for m_val in range(50):\n",
    "    for b_val in range(75):\n",
    "        avg_error_bf = 0\n",
    "        for i in range(len(x_train_data)):\n",
    "            x = x_train_data[i]\n",
    "            y = y_train_data[i]\n",
    "            avg_error_bf += abs(y - (m_val * x + b_val))\n",
    "        \n",
    "        avg_error_bf /= len(x_train_data)\n",
    "        bf_errors.append(avg_error_bf)\n",
    "        if avg_error_bf <= avg_error_train:\n",
    "             print('A BETTER LINE FOUND WITH M: {} AND B: {} avg error {}'.format(rand_m, rand_b, avg_error_random))\n",
    "\n",
    "print('Lowest error found: {}\\nLOS error: {}\\nDifference: {}'\n",
    "      .format(\n",
    "          min(bf_errors),\n",
    "          avg_error_train,\n",
    "          min(bf_errors) - avg_error_train)\n",
    "       )"
   ]
  },
  {
   "cell_type": "markdown",
   "id": "5d668141",
   "metadata": {},
   "source": [
    "This little test shows that there are atleast no rounded number within a reasonable range that fits the data closer than what I found using OLS. This result makes me think that I applied the algorithm correctly, but there still might be a better solution out there. \n",
    "\n",
    "And the difference between the brute force method and the OLS method is really low, in some splits less than 0.2. This was not what I expected. But OLS still gives a better result than this brute force method and will hold up better with a larger dataset, because the time to calculate the values doesn't increase exponentially."
   ]
  },
  {
   "cell_type": "markdown",
   "id": "9c1678be",
   "metadata": {},
   "source": [
    "The last way I will try to find if the results of the OLS algorithms are useful I will try to plot the test data and the prediction line in the same graph. If they overlap the line found by the algorithm is a good fit for the data. I didn't do this step earlier because I didn't know how to draw multiple things in a single graph, but after training more with the pandas course from Kaggle and reading documentation on the plotlib library I figured it out."
   ]
  },
  {
   "cell_type": "code",
   "execution_count": 12,
   "id": "5c9573f9",
   "metadata": {},
   "outputs": [
    {
     "data": {
      "image/png": "[encoded data removed]",
      "text/plain": [
       "<Figure size 432x288 with 1 Axes>"
      ]
     },
     "metadata": {
      "needs_background": "light"
     },
     "output_type": "display_data"
    },
    {
     "data": {
      "image/png": "[encoded data removed]",
      "text/plain": [
       "<Figure size 432x288 with 1 Axes>"
      ]
     },
     "metadata": {
      "needs_background": "light"
     },
     "output_type": "display_data"
    }
   ],
   "source": [
    "import numpy as np\n",
    "\n",
    "# Setting up the line\n",
    "min_x = df['Temperature'].min()\n",
    "max_x = df['Temperature'].max()\n",
    "x = np.linspace(min_x, max_x, 2) # create the outer points of the line\n",
    "\n",
    "def draw_prediction_graph(title, label, dataset, scatter_color):\n",
    "    setup_layout()\n",
    "    plt.title(title)\n",
    "    plt.scatter(dataset['Temperature'], dataset['Revenue'], color = scatter_color, label = label)\n",
    "    plt.plot(x, m * x + b, color = 'red', label = 'prediction', linewidth = 2)\n",
    "    setup_graph()\n",
    "    \n",
    "# Training data with prediction\n",
    "draw_prediction_graph('Training data with prediction line', 'Training data', train_data, 'blue')\n",
    "\n",
    "# Test data with prediction\n",
    "draw_prediction_graph('Test data with prediction line', 'Test data', test_data, 'cyan')\n",
    "\n",
    "\n",
    "\n",
    "\n"
   ]
  },
  {
   "cell_type": "markdown",
   "id": "97c3de2f",
   "metadata": {},
   "source": [
    "## Prologue conclusion\n",
    "\n",
    "During this prologue I learned a lot: I managed to find a dataset that would be easy to startwith,  I started working with a Jupyter notebook and got used to using the Python syntax, I plotted graphs with the matplot library and split the dataset in test and training data and finally applied linear regression with the ordinary least squares method to calculate a line that fits the dataset. After that I validated my results by calculating the average error, trying out a brute force algorithm to see if my answer is reasonable and I plotted the prediction line against the data. And even though I succeeded with this dataset, the computer did not really learn, it just applied a mathemetical formula on all the given data at once to find the best line. \n",
    "During the rest of the semester I would also like to look at problems that are more complex and where the computer gradually gets better until it can confidently solve the problem.\n"
   ]
  },
  {
   "cell_type": "markdown",
   "id": "1f825650",
   "metadata": {},
   "source": [
    "## Version control\n",
    "After writing the Prologue it seemed like a good idea to put the notebook into Git and onto Github for version management and to have an online backup. It is also good preperation for the group project that likely will also have a notebook on Github.\n",
    "\n",
    "As a software major I try not to overengineer the projects that I pursue during this semester I think putting the project on Github still adds value, especially for the group projects, but also in addition to the checkpoints that Jupyter creates.\n",
    "\n",
    "Because of my major it was easy to put the notebook into Git. The only downside is that because the notebook is a mixture of markdown and code spread over different cells, the changes are difficult to view. The solution I found was using a tool called [ReviewNB](https://app.reviewnb.com/) that lets you view the changes on Github. In the near future I would also like find a solution to view my changes locally before I push them to Github.\n",
    "\n",
    "After reading this [blog](https://blog.reviewnb.com/jupyter-version-control/) I found the option of adding [jupyterlab-git](https://github.com/jupyterlab/jupyterlab-git) to the notebook, but I couldn't get this to work. So instead I will use the merge editor from Visual Studio Code to deal with local merge requests in the notebook."
   ]
  },
  {
   "cell_type": "markdown",
   "id": "76cce6f4",
   "metadata": {},
   "source": [
    "## Inspiration\n",
    "\n",
    "The goal after writing the Prologue is to find inspiration for my individual challenge of the semester. Before the start of this semester I did a little bit of research into NN (neural network(s)) and I would like to learn more about how they can be applied and structured.\n",
    "\n",
    "Before the start of the semester I already followed youtubers that also made videos about AI, so that is the first place I went to for inspiration. I watched all the projects made by Code Bullet and the series about [Genetic Algorithms](https://www.youtube.com/playlist?list=PLRqwX-V7Uu6bJM3VgzjNV5YxVxUwzALHV) by The Coding Train. Here I learned that a genetic algorithms is basically a type of reinforcement learning that is trying to simulate the idea of evolution theory with code. I instantly got hooked on the idea of doing something with a genetic algorithm, because of a couple reasons:\n",
    "  - I find the idea of applying real world phenomena in code appealing;\n",
    "  - It is great for story telling and visualisation and validation, because when you do it right you can actually see the agents improving and evolving over time.\n",
    "  - The results can be fascinating, funny and unpredictable as the agents might try to cheat the system, fail horribly in the beginning or come up with revolutionary ideas while improving. \n",
    "  - A genetic algorithm can be used together with a neural network.\n",
    "  - Agents can become so good at some of the tasks that humans could never compare.\n",
    "  \n",
    "The projects that inspired me the most are:\n",
    "<br/>\n",
    "<br/>\n",
    "  **NeuroEvolution Flappy Bird from The Coding Train**\n",
    "![NeuroEvolution Flappy Bird](Images/FlappyBird.png)\n",
    " <br/>\n",
    "**NeuroEvolution Jump King from Code Bullet**\n",
    "![NeuroEvolution Jump King](Images/JumpKing.png)\n",
    "\n",
    "<br/>\n",
    "In one of the Code Bullet videos he mentioned that he is using an algorithm similar to what Open AI used to beat dota. I never heard of Open AI, but I know that Dota is a very hard game to play for a computer therefore I started looking into the projects build by open AI. There I found the following inpressive projects:\n",
    "\n",
    "**Open AI Five playing Dota 2**\n",
    "![Open AI Five playing Dota 2](Images/OpenAiDota.png)\n",
    "Open AI managed to beat the world champions with their Dota AI\n",
    "\n",
    "\n",
    "They also used NeuroEvolution and self play to teach AIs to play hide and seek.  \n",
    "\n",
    "**Open AI playing hide and seek**\n",
    "![Open AI playing hide and seek](Images/OpenAiHideAndSeek.png)\n",
    "\n",
    "These open AI projects are really impressive to me as Dota is very difficult to teach, because it is a really complex game with lots of variety and an environment that is constantly changing. It also is a team game requiring the bots to play well together.  \n",
    "\n",
    "The hide and seek game peaked my interests, because the different generations got placed in increasingly diffucult scenarios and everytime either the hiding (defending) or seeking (attacking) team came up with a new stratergy later generations of the other team would find a way to break the new found strategy. And eventually the attacking team even found a way to break the physics engine to surf on top of a box and jump over the walls set up by the defending team (shown in the image below).  \n",
    "\n",
    "**Attacking team cheating the system**\n",
    "![Attacking team box surfing hide and seek](Images/OpenAiBoxSurfing.png)\n",
    "\n",
    "Of course Open AI is a major company and this is unrealistic for my individual challenge, but the hope is that my individual challenge will also have the different generations show funny, genius or unexpected solutions that humans can learn from. I also think that AI works best when the powers of the AI and Humans are combined, so if time allows it I would also like to implement a way for humans to be in the created environment alongside the AI.\n",
    "<br/>\n",
    "\n",
    "**Primer** <br/>\n",
    "Through watching videos of the channels above I also found the [Primer youtube channel](https://www.youtube.com/primerlearning). This channel has a lot of videos of visualizations of genetic algorithms in different environments. And the subjects covered by Primer are also really well explained and easy to understand.\n",
    "\n",
    "![Primer Foraging Video](Images/PrimerForaging.png)\n",
    "\n",
    "His video about [Simulating Foraging Decisions](https://youtu.be/nsVD8VPh96w) gave me the idea to create a survival simulation for my individual project.\n",
    "\n",
    "But to be a managable project it has to be an easy simulation with easy decisions like should I forage a tree for food or should I cut down the tree for wood and create a fire?\n",
    "\n",
    "![Easy Not Difficult](Images/EasyDifficult.png)\n"
   ]
  },
  {
   "cell_type": "markdown",
   "id": "b532e5e8",
   "metadata": {},
   "source": [
    "# The plan\n",
    "\n",
    "After finding these various sources of inspiration I decided that I want to make a survival simulator. The survivors could have stats like hunger and warmth, thirst and they need to find resources to keep their stats up. \n",
    "\n",
    "The creatures that survive long enough will have a higher chance of producing offspring. This should lead to later generations being able to survive longer than their predecessors. \n",
    "\n",
    "I think this is an ambitous plan and for that reason I will start simple and make the environment more complex once the survivors can have found a consistant way or surviving in their current environment.\n",
    "\n",
    "If the project goes really well then later environments could include things like the survivors being able to make a fire to stay warm, animals trying to hunt the survivors or a mechanic to encourage the survivors to work together (Altruism / Inclusive fitness).\n",
    "\n",
    "### The goals\n",
    "These are the goals I hope to achieve with this challenge:\n",
    "  - Create a simple survival simulator that can be made more complex in the future.\n",
    "  - Use a genetic algorithm to evolve the creatures to get better at surviving and adapting to their environment\n",
    "  - Collect and visualize the data generated by the creatures and the world and use this to find generations with funny, unexpected or clever behaviour.\n",
    "  - Allow a human to enter the simulation and survive with the AI's to see how humans and AI's interact.\n",
    "\n",
    "\n",
    "### Prototyping idea \n",
    "I want to start by building a quick prototype to see if I am going to run into any limitations. I am planning to use PyGame for the visualisation, but do the other calculations myself so the program can run without having to draw all the pixels.\n",
    "For the first version of the simulation the plan is to only have survivors and trees in the world and see if the survivors can learn to harvest fruit from the trees to survive.\n",
    "\n",
    "Before building the survival prototype I wanted to get used to PyGame. And an easy project to learn the ropes is the classic game snake.\n",
    "\n",
    "**Learning PyGame with snake**\n",
    "![Snake in PyGame](Images/SnakeInPyGame.png)\n",
    "\n",
    "**First version of the survival simulation**\n",
    "![First prototype](Images/IndiProjectPrototype_1.png)\n",
    "<br/>\n",
    "#### Optimizations\n",
    "I took a few precautions to help with the simulation speed and hopefully help speed up the training later, but because these optimizations are not closely related to AI I will not discuss them here. I however will discuss them in the [Readme file](https://github.com/MatthijsFontys/AISocietyIndividualProject/blob/master/README.md) that is on the Github for this project."
   ]
  },
  {
   "cell_type": "markdown",
   "id": "285ce0ac",
   "metadata": {},
   "source": [
    "# Genetic algorithm\n",
    "\n",
    "``` python\n",
    "# maybe mention https://youtu.be/RxTfc4JLYKs?t=214 heredity, variation and selection\n",
    "```\n",
    "\n",
    "In the goals section I specify that I want the survivors to solve their environment using a genetic algorithm. To clarify this I will define my definition of a genetic algorithm below:\n",
    "<br/><br/>\n",
    "\n",
    "A genetic algorithm is an algorithm that starts with a population of a chosen size. Each member of the population gets their DNA randomly generated. Then all members of the population are continuously given a fitness score based on their performance. \n",
    "<br/><br/>\n",
    "The population must be able to change. This can happen through replacing the old generation with an entirely new generation all at once, or by removing members with a low fitness score and slowly adding new members to the population.\n",
    "<br/><br/>\n",
    "The process of creating new members fit for the population is the following:\n",
    "- Two parents are chosen from the current population with a probability according to relative fitness.\n",
    "- New members have DNA that is combined from its parents. (crossover)\n",
    "- The new member's DNA is changed (mutated) based on a given probability (mutation rate) to account for a possible lack of variety in the starting population.\n",
    "- The new unit is added to the population\n",
    "\n",
    "<img alt=\"Genetic algoritym explained\" src=\"Images/GeneticAlgorithmExplained.png\" style=\"width:50%;height:auto\"/>\n",
    "\n",
    "<br/>\n",
    "\n",
    "Each new generation also gets a fitness value and eventually replaced with members of a new generation.\n",
    "\n",
    "To clarity: the DNA can be anything that can help a member of the population achieve its goals. In simple scenarios these even could be arrays of integer values or Vectors. But in more complex scenarios and changing environments the DNA consists of a neural network. Where each generation evolves the values for the weights in the network. And atleast in my understanding when a genetic algorithm gets paired with Neural Networks it is called NeuroEvolution\n",
    "\n"
   ]
  },
  {
   "cell_type": "markdown",
   "id": "7cbd670c",
   "metadata": {},
   "source": [
    "# Genetic Algorithm with snake\n",
    "\n",
    "I want to look at snake first, because it is such an easy game. And as always I try to start easy so I will do try the genetic algorithm first without a neural network. The DNA will be an array of the directions the snake can choose to move. And the fitness score will be a combination of the snake's length and the time it manages to stay alive.\n",
    "I doubt the results that this DNA can achieve is anything special, because snake is a game with randomness and without the snake being able to perceive its environment it will not try and eat the food. To counteract this and get some better results to see if the genetic algorithms really is working I will predetermine the food spawn locations so the environment doesn't change and the newer generations get to adapt. After the current DNA is replaced with a neural network this is no longer necessary as it lets the agents perceive the world.\n",
    "\n",
    "I want to be able to look at the results without having to watch the entire process in PyGame. Therefore I will have to store the results of each generation and compare the results to a generation that has not evolved at all, to see if newer generations are making progress. Graphing the data will be the same thing I did in my prologue chapter. The difference is that I now need to collect the data myself instead of just read a csv that I got from Kaggle. But luckily the Pandas library allows you to make your own Dataframe and export it as a csv. Then it is easy go graph the data. Also luckily Kaggle has a good [tutorial](https://www.kaggle.com/learn/pandas) on how to work with dataframes. I also used this tutorial to learn how to plot the data in Prologue.\n",
    "\n",
    "Below I will try to make an example to see how I could gather the data from snake and put it in a dataframe. Ofcouse the example is hardcoded, but the actual data will be gathered from the snake game. I also could save the plotted data as an image and look through the images after training to look for interesting results.\n",
    "\n",
    "```python\n",
    "# TODO: think about if I want to show in a code cell below how I use the DNA and do crossover / mutation\n",
    "```"
   ]
  },
  {
   "cell_type": "code",
   "execution_count": 13,
   "id": "e0744414",
   "metadata": {},
   "outputs": [],
   "source": [
    "# TEMP CELL FOR NEURAL NETWORK CLASS\n",
    "# WILL CHANGE THE ORDER ONCE THE NEURAL NETWORK WORKS AND SNAKE IS TRAINED TO MAKE SENSE\n",
    "\n",
    "class Layer:\n",
    "\n",
    "    def __init__(self, input_count, node_count):\n",
    "        # weight dimensions = (rows * columns) (nodes_in_layer * inputs)\n",
    "        self.input_count = input_count\n",
    "        self.node_count = node_count\n",
    "        self.weights = []\n",
    "        # one bias for every node right?\n",
    "        self.biases = []\n",
    "\n",
    "        # initialize the weights with random values between -1 and 1\n",
    "        for i in range(node_count):\n",
    "            self.weights.append([])\n",
    "            self.biases.append(random.random() * 2 - 1)\n",
    "            for j in range(input_count):\n",
    "                self.weights[i].append(random.random() * 2 - 1)\n",
    "\n",
    "    def activate(self, values):\n",
    "        # sigmoid\n",
    "        return list(map(lambda x: 1 / (1 + math.exp(-x)), values))\n",
    "\n",
    "    def feed_forward(self, inputs):\n",
    "        values = np.matmul(self.weights, inputs)\n",
    "        values = np.add(values, self.biases)\n",
    "        return self.activate(values)\n",
    "    \n",
    "class NeuralNetwork:\n",
    "\n",
    "    def __init__(self, input_count, output_count):\n",
    "        self.input_count = input_count\n",
    "        self.output_count = output_count\n",
    "        self.layers = []\n",
    "\n",
    "    def add_layer(self, node_count):\n",
    "        input_count = self.input_count\n",
    "        if len(self.layers) > 0:\n",
    "            input_count = self.layers[-1].node_count\n",
    "        self.layers.append(Layer(input_count, node_count))\n",
    "        return self\n",
    "\n",
    "    def add_output_layer(self):\n",
    "        self.layers.append(Layer(self.layers[-1].node_count, self.output_count))\n",
    "        return self\n",
    "\n",
    "    def feed_forward(self, inputs):\n",
    "        for layer in self.layers:\n",
    "            inputs = layer.feed_forward(inputs)\n",
    "        return inputs\n",
    "\n"
   ]
  },
  {
   "cell_type": "markdown",
   "id": "de8f5526",
   "metadata": {},
   "source": [
    "## New generation\n",
    "\n",
    "creating generation below\n"
   ]
  },
  {
   "cell_type": "code",
   "execution_count": 22,
   "id": "0af74f20",
   "metadata": {},
   "outputs": [],
   "source": [
    "import random\n",
    "\n",
    "# Todo: Make the layout better, white text, add legend maybe\n",
    "\n",
    "class Snake:\n",
    "    def __init__(self, score):\n",
    "        self.dna = NeuralNetwork(2, 4).add_layer(2).add_output_layer()\n",
    "        self.score = score * score\n",
    "        self.times_chosen = 0\n",
    "\n",
    "snakes = []\n",
    "summed_score = 0\n",
    "for i in range(10):\n",
    "    summed_score += i + 1\n",
    "    snakes.append(Snake(i + 1))\n",
    "\n",
    "# print(len(snakes))\n",
    "\n",
    "\n",
    "        "
   ]
  },
  {
   "cell_type": "markdown",
   "id": "f490f421",
   "metadata": {},
   "source": [
    "## Selection\n",
    "\n",
    "Selection algorithm below\n"
   ]
  },
  {
   "cell_type": "code",
   "execution_count": 26,
   "id": "587c4914",
   "metadata": {},
   "outputs": [
    {
     "data": {
      "image/png": "[encoded data removed]",
      "text/plain": [
       "<Figure size 432x288 with 1 Axes>"
      ]
     },
     "metadata": {
      "needs_background": "light"
     },
     "output_type": "display_data"
    }
   ],
   "source": [
    "amount_to_choose = 10_000\n",
    "for i in range(amount_to_choose):\n",
    "    rand = random.random()\n",
    "    for snake in snakes:\n",
    "        rand -= snake.score / summed_score\n",
    "        if rand <= 0:\n",
    "            snake.times_chosen += 1\n",
    "            break\n",
    "            \n",
    "percent_score = []\n",
    "scores = []\n",
    "percent_chosen = []\n",
    "for snake in snakes:\n",
    "    scores.append(snake.score)\n",
    "    percent_score.append(round(snake.score / summed_score, 2))\n",
    "    percent_chosen.append(round(snake.times_chosen / amount_to_choose,2))\n",
    "\n",
    "\n",
    "selection_df = pd.DataFrame({\n",
    "    'Score': scores,\n",
    "    #'Percent of summed score': percent_score,\n",
    "    'Percent of total chosen': percent_chosen\n",
    "})\n",
    "\n",
    "setup_layout()\n",
    "plt.bar(data=selection_df, x='Score', height='Percent of total chosen', color='#4A945D')\n",
    "plt.show()"
   ]
  },
  {
   "cell_type": "markdown",
   "id": "85634d90",
   "metadata": {},
   "source": [
    "## Crossover\n",
    "\n",
    "Crossover below\n"
   ]
  },
  {
   "cell_type": "code",
   "execution_count": 16,
   "id": "9ce0e241",
   "metadata": {},
   "outputs": [
    {
     "name": "stdout",
     "output_type": "stream",
     "text": [
      "parent_a\n",
      "[0.87, 0.53]\n",
      "[-0.86, -0.37]\n",
      "[0.21, -0.04]\n",
      "[0.53, 0.26]\n",
      "[0.69, 0.19]\n",
      "[-0.65, -0.39]\n",
      "\n",
      "parent_b\n",
      "[0.96, -0.8]\n",
      "[-0.45, 0.25]\n",
      "[-0.44, 0.09]\n",
      "[-0.4, -0.75]\n",
      "[-0.33, 0.81]\n",
      "[-0.0, 0.32]\n",
      "\n",
      "offspring\n",
      "[0.96, 0.53]\n",
      "[-0.86, 0.25]\n",
      "[-0.44, -0.04]\n",
      "[-0.4, -0.75]\n",
      "[0.69, 0.81]\n",
      "[-0.65, -0.39]\n"
     ]
    }
   ],
   "source": [
    "parent_a = snakes[0].dna\n",
    "parent_b = snakes[1].dna\n",
    "\n",
    "# I Need to find a good way to visualise the weights and biases\n",
    "# That way I can check if the network does well and to check the crossover and mutation methods\n",
    "def print_member(member):\n",
    "    for layer in member.layers:\n",
    "        for i in range(layer.node_count):\n",
    "            result = map(lambda x: round(x,2), layer.weights[i])\n",
    "            print(list(result))\n",
    "\n",
    "print('parent_a')\n",
    "print_member(parent_a)\n",
    "print('\\nparent_b')\n",
    "print_member(parent_b)\n",
    "\n",
    "offspring = NeuralNetwork(2, 4).add_layer(2).add_output_layer()\n",
    "for layer_index in range(len(offspring.layers)):\n",
    "    my_layer = offspring.layers[layer_index]\n",
    "    parent_layers = [parent_a.layers[layer_index], parent_b.layers[layer_index]]\n",
    "    #parent_layers = [parent_a.layers[layer_index]]\n",
    "    for i in range(offspring.layers[layer_index].node_count):\n",
    "        parent_bias = random.choice(parent_layers).biases[i]\n",
    "        my_layer.biases[i] = parent_bias\n",
    "        for j in range(offspring.layers[layer_index].input_count):\n",
    "            parent_weights = random.choice(parent_layers).weights[i][j]\n",
    "            my_layer.weights[i][j] = parent_weights\n",
    "\n",
    "print('\\noffspring')\n",
    "print_member(offspring)\n"
   ]
  },
  {
   "cell_type": "markdown",
   "id": "f56eed2c",
   "metadata": {},
   "source": [
    "## Mutation\n",
    "\n",
    "Mutation below\n"
   ]
  },
  {
   "cell_type": "code",
   "execution_count": 17,
   "id": "a2f3d56d",
   "metadata": {},
   "outputs": [
    {
     "name": "stdout",
     "output_type": "stream",
     "text": [
      "\n",
      "offspring before mutation\n",
      "[0.96, 0.53]\n",
      "[-0.86, 0.25]\n",
      "[-0.44, -0.04]\n",
      "[-0.4, -0.75]\n",
      "[0.69, 0.81]\n",
      "[-0.65, -0.39]\n",
      "\n",
      "offspring after mutation\n",
      "[0.96, 0.53]\n",
      "[-1.08, 0.25]\n",
      "[-0.44, -0.04]\n",
      "[-0.4, -0.75]\n",
      "[0.69, 0.95]\n",
      "[-0.65, -0.39]\n"
     ]
    }
   ],
   "source": [
    "print('\\noffspring before mutation')\n",
    "print_member(offspring)\n",
    "\n",
    "def get_mutated_value(start_value):\n",
    "    sine = [1, -1]\n",
    "    if random.random() < 0.5:\n",
    "        #return start_value + random.uniform(-0.3, 0.3)\n",
    "        return start_value + ((random.random() * 2 - 1) / 3)\n",
    "        #return start_value + (random.random() / 2 * random.choice(sine))\n",
    "    else:\n",
    "        return start_value\n",
    "\n",
    "for layer_index in range(len(offspring.layers)):\n",
    "    my_layer = offspring.layers[layer_index]\n",
    "    #parent_layers = [parent_a.layers[layer_index]]\n",
    "    for i in range(offspring.layers[layer_index].node_count):\n",
    "        parent_bias = random.choice(parent_layers).biases[i]\n",
    "        #my_layer.biases[i] = parent_bias\n",
    "        for j in range(offspring.layers[layer_index].input_count):\n",
    "            my_layer.weights[i][j] = get_mutated_value(my_layer.weights[i][j])\n",
    "\n",
    "print('\\noffspring after mutation')\n",
    "print_member(offspring)"
   ]
  },
  {
   "cell_type": "code",
   "execution_count": 18,
   "id": "8a927cda",
   "metadata": {},
   "outputs": [
    {
     "data": {
      "text/html": [
       "<div>\n",
       "<style scoped>\n",
       "    .dataframe tbody tr th:only-of-type {\n",
       "        vertical-align: middle;\n",
       "    }\n",
       "\n",
       "    .dataframe tbody tr th {\n",
       "        vertical-align: top;\n",
       "    }\n",
       "\n",
       "    .dataframe thead th {\n",
       "        text-align: right;\n",
       "    }\n",
       "</style>\n",
       "<table border=\"1\" class=\"dataframe\">\n",
       "  <thead>\n",
       "    <tr style=\"text-align: right;\">\n",
       "      <th></th>\n",
       "      <th>Random best</th>\n",
       "      <th>Genetic best</th>\n",
       "    </tr>\n",
       "    <tr>\n",
       "      <th>Gen</th>\n",
       "      <th></th>\n",
       "      <th></th>\n",
       "    </tr>\n",
       "  </thead>\n",
       "  <tbody>\n",
       "    <tr>\n",
       "      <th>1</th>\n",
       "      <td>1</td>\n",
       "      <td>1</td>\n",
       "    </tr>\n",
       "    <tr>\n",
       "      <th>2</th>\n",
       "      <td>3</td>\n",
       "      <td>1</td>\n",
       "    </tr>\n",
       "    <tr>\n",
       "      <th>3</th>\n",
       "      <td>2</td>\n",
       "      <td>2</td>\n",
       "    </tr>\n",
       "    <tr>\n",
       "      <th>4</th>\n",
       "      <td>3</td>\n",
       "      <td>2</td>\n",
       "    </tr>\n",
       "    <tr>\n",
       "      <th>5</th>\n",
       "      <td>4</td>\n",
       "      <td>3</td>\n",
       "    </tr>\n",
       "  </tbody>\n",
       "</table>\n",
       "</div>"
      ],
      "text/plain": [
       "     Random best  Genetic best\n",
       "Gen                           \n",
       "1              1             1\n",
       "2              3             1\n",
       "3              2             2\n",
       "4              3             2\n",
       "5              4             3"
      ]
     },
     "execution_count": 18,
     "metadata": {},
     "output_type": "execute_result"
    },
    {
     "data": {
      "image/png": "[encoded data removed]",
      "text/plain": [
       "<Figure size 432x288 with 1 Axes>"
      ]
     },
     "metadata": {
      "needs_background": "light"
     },
     "output_type": "display_data"
    }
   ],
   "source": [
    "save_as_img = False\n",
    "snake_example_df = pd.DataFrame({\n",
    "    'Random best': [1, 3, 2, 3, 4, 3, 3, 1, 2, 2, 1, 2, 1],\n",
    "    'Genetic best': [1, 1, 2, 2, 3, 2, 3, 3, 4, 4, 4, 5, 5]\n",
    "})\n",
    "\n",
    "# start index at 1, since generation starts at 1\n",
    "snake_example_df.index+=1\n",
    "snake_example_df.index.name='Gen'\n",
    "\n",
    "def plot_snake(df, title):\n",
    "    # TODO: figure out how I can keep my code organized even when the notebook gets much larger\n",
    "    # TODO: figure out if I can use setup layout when using df.plot() instead\n",
    "    setup_layout()\n",
    "    # TODO: I need to learn matplotlib better and clean up plotting code\n",
    "    plt.plot(df)\n",
    "    plt.xlabel('Gen')\n",
    "    plt.ylabel('Score')\n",
    "    plt.title(title)\n",
    "    plt.legend(snake_example_df.columns, loc='upper left')\n",
    "    \n",
    "plot_snake(snake_example_df, 'Example snake data')\n",
    "\n",
    "# it is easy to save a plot as an image\n",
    "if save_as_img:\n",
    "    plt.savefig('PlotImages/snake_example.png')\n",
    "\n",
    "snake_example_df.head()"
   ]
  },
  {
   "cell_type": "markdown",
   "id": "153ac223",
   "metadata": {},
   "source": [
    "### Result\n",
    "![Genetic algorithm result](Images/ga_pathfinding.gif)\n",
    "\n"
   ]
  },
  {
   "cell_type": "markdown",
   "id": "04cfd644",
   "metadata": {},
   "source": [
    "### Actual snake data\n",
    "\n",
    "Below is the actual data I gathered from the snake game after comparing 80 generations of random movement against 80 generations that uses a genetic algorithm. The genetic algorithm got more consistent results and achieved a snake of length 5 multiple times. while the random snakes were only able to achieve a snake of length 4 once.\n",
    "\n",
    "So clearly the evolving snakes are doing better, but not by much."
   ]
  },
  {
   "cell_type": "code",
   "execution_count": 19,
   "id": "a49ebb71",
   "metadata": {},
   "outputs": [
    {
     "data": {
      "text/html": [
       "<div>\n",
       "<style scoped>\n",
       "    .dataframe tbody tr th:only-of-type {\n",
       "        vertical-align: middle;\n",
       "    }\n",
       "\n",
       "    .dataframe tbody tr th {\n",
       "        vertical-align: top;\n",
       "    }\n",
       "\n",
       "    .dataframe thead th {\n",
       "        text-align: right;\n",
       "    }\n",
       "</style>\n",
       "<table border=\"1\" class=\"dataframe\">\n",
       "  <thead>\n",
       "    <tr style=\"text-align: right;\">\n",
       "      <th></th>\n",
       "      <th>random best</th>\n",
       "      <th>genetic best</th>\n",
       "    </tr>\n",
       "    <tr>\n",
       "      <th>gen</th>\n",
       "      <th></th>\n",
       "      <th></th>\n",
       "    </tr>\n",
       "  </thead>\n",
       "  <tbody>\n",
       "    <tr>\n",
       "      <th>1</th>\n",
       "      <td>3</td>\n",
       "      <td>3</td>\n",
       "    </tr>\n",
       "    <tr>\n",
       "      <th>2</th>\n",
       "      <td>3</td>\n",
       "      <td>3</td>\n",
       "    </tr>\n",
       "    <tr>\n",
       "      <th>3</th>\n",
       "      <td>3</td>\n",
       "      <td>3</td>\n",
       "    </tr>\n",
       "    <tr>\n",
       "      <th>4</th>\n",
       "      <td>3</td>\n",
       "      <td>3</td>\n",
       "    </tr>\n",
       "    <tr>\n",
       "      <th>5</th>\n",
       "      <td>3</td>\n",
       "      <td>3</td>\n",
       "    </tr>\n",
       "  </tbody>\n",
       "</table>\n",
       "</div>"
      ],
      "text/plain": [
       "     random best  genetic best\n",
       "gen                           \n",
       "1              3             3\n",
       "2              3             3\n",
       "3              3             3\n",
       "4              3             3\n",
       "5              3             3"
      ]
     },
     "execution_count": 19,
     "metadata": {},
     "output_type": "execute_result"
    },
    {
     "data": {
      "image/png": "[encoded data removed]",
      "text/plain": [
       "<Figure size 432x288 with 1 Axes>"
      ]
     },
     "metadata": {
      "needs_background": "light"
     },
     "output_type": "display_data"
    }
   ],
   "source": [
    "snake_actual_df = pd.read_csv('Datasets/Snake/genetic_vs_random_v1_gen_1_to_80.csv')\n",
    "snake_actual_df = snake_actual_df.set_index('gen')\n",
    "\n",
    "plot_snake(snake_actual_df, 'Actual snake data')\n",
    "snake_actual_df.head()"
   ]
  },
  {
   "cell_type": "markdown",
   "id": "07262051",
   "metadata": {},
   "source": [
    "#### Improved fitness function and selection\n",
    "I changed the fitness function to be exponential instead of linear to try and pick the better parents more often. I also changed the way the parents are selected. Before random parents from the top 10% of snakes would get selected. Now the odds for a parent being picked is linked directly to its fitness. \n",
    "\n",
    "These changes make the best snakes more likely to get picked over snakes that do better than the average, but not the best. And these improvements clearly helped as now the snakes were able to reach a consistent length of 9 after 130 generations."
   ]
  },
  {
   "cell_type": "code",
   "execution_count": 20,
   "id": "efd60aa2",
   "metadata": {},
   "outputs": [
    {
     "data": {
      "image/png": "[encoded data removed]",
      "text/plain": [
       "<Figure size 432x288 with 1 Axes>"
      ]
     },
     "metadata": {
      "needs_background": "light"
     },
     "output_type": "display_data"
    }
   ],
   "source": [
    "snake_improved_df = pd.read_csv('Datasets/Snake/genetic_vs_random_v2_gen_1_to_140.csv')\n",
    "snake_improved_df = snake_improved_df.set_index('gen')\n",
    "plot_snake(snake_improved_df, 'Actual snake data')"
   ]
  },
  {
   "cell_type": "markdown",
   "id": "8a564090",
   "metadata": {},
   "source": [
    "# The first simulation\n",
    "\n",
    "After creating the most basic version of the simulation where creatures can walk and if they are close to a tree can get food from the tree to still their hunger. They die if their fullness value reaches 0. The trees slowly regrow food for the survivors to harvest. \n",
    "\n",
    "Because this simulation is so basic I think it is possible to solve by evolving a basic feed forward\n",
    "neural network where everything is connected. \n",
    "\n",
    "later on in more complex situations I am planning on using an algorithm called NeuroEvolution Of Augmenting Topologies (NEAT). I will explain this algorithm in more detail when I start using it, but for now it is enough to know that it not only mutates the weights of a neural network, but also its structure to find the smallest NeuralNetwork for the solution. I found this algorithm when watching the videos that inspired me for this project.\n",
    "\n",
    "The outputs for this network are pretty standard, just a percentage of certainty for the following actions (more complex simulations later on might have more outputs):\n",
    "- move up\n",
    "- move down\n",
    "- move left\n",
    "- move right\n",
    "- idle\n",
    "\n",
    "I am not sure what all the inputs will be but I think a good start is\n",
    "- the survivor's fullness value\n",
    "- how far away is the x of the closest tree\n",
    "- how far away is the y of the closest tree\n",
    "- how much fruit does this tree have\n",
    "\n",
    "but it could be that the closest tree is out of range and I don't know what the imput should be when that happens."
   ]
  },
  {
   "cell_type": "markdown",
   "id": "75d22293",
   "metadata": {},
   "source": [
    "## Creating a simple Neural Network\n",
    "\n",
    "For each perceptron (or node i don't know) I want to use a matrix to hold the weights so I can calculate the weighted sum by using the matrix math in numpy to multiply the inputs by the weights.\n",
    "\n",
    "Ok so step 1 is weighed sum, which is just matrix math\n",
    "step 2 is an activation function, don't know how to do this at all yet\n",
    "\n",
    "We are going to need the Matrix product for the weighted sum. How do I do this with numpy?\n",
    "\n",
    "below I will try out some matrix math for my neural network"
   ]
  },
  {
   "cell_type": "code",
   "execution_count": 21,
   "id": "95ebba2b",
   "metadata": {},
   "outputs": [
    {
     "name": "stdout",
     "output_type": "stream",
     "text": [
      "[3 1 4]\n"
     ]
    }
   ],
   "source": [
    "# change this cell to show the steps of creating the simple neural network instead.\n",
    "# columns of a must match rows of b\n",
    "# has has 3 columns so b has 3 rows\n",
    "\n",
    "matrix_a = [\n",
    "    [6,7,0],\n",
    "    [7,2,6]\n",
    "]\n",
    "\n",
    "matrix_b = [\n",
    "    [5,3],\n",
    "    [1,1],\n",
    "    [5,1]\n",
    "]\n",
    "\n",
    "# 2 inputs 3 nodes in hidden\n",
    "# so 3 rows and 2 columns\n",
    "matrix_weights_a = [\n",
    "    [5,3],\n",
    "    [1,1],\n",
    "    [-1,4]\n",
    "]\n",
    "\n",
    "# so if the weights are 2 columns the inputs should be 2 which is the case\n",
    "matrix_inputs_b = [0,1]\n",
    "\n",
    "print(np.matmul(matrix_weights_a, matrix_inputs_b))\n",
    "# print(np.matmul(matrix_a, matrix_b))\n",
    "\n",
    "\n"
   ]
  },
  {
   "cell_type": "code",
   "execution_count": null,
   "id": "874360d7",
   "metadata": {},
   "outputs": [],
   "source": []
  }
 ],
 "metadata": {
  "kernelspec": {
   "display_name": "Python 3 (ipykernel)",
   "language": "python",
   "name": "python3"
  },
  "language_info": {
   "codemirror_mode": {
    "name": "ipython",
    "version": 3
   },
   "file_extension": ".py",
   "mimetype": "text/x-python",
   "name": "python",
   "nbconvert_exporter": "python",
   "pygments_lexer": "ipython3",
   "version": "3.9.12"
  },
  "toc": {
   "base_numbering": 1,
   "nav_menu": {},
   "number_sections": true,
   "sideBar": true,
   "skip_h1_title": false,
   "title_cell": "Table of Contents",
   "title_sidebar": "Contents",
   "toc_cell": false,
   "toc_position": {},
   "toc_section_display": true,
   "toc_window_display": false
  }
 },
 "nbformat": 4,
 "nbformat_minor": 5
}
