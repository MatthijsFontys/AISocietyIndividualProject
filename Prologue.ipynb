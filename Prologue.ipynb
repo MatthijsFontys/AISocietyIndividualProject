{
 "cells": [
  {
   "cell_type": "markdown",
   "id": "50458d53",
   "metadata": {},
   "source": [
    "# Navigation\n",
    "\n",
    "*Use these links to find the section that you would like to view*\n",
    "\n",
    "- [SKIP Prologue](#skip-prologue)\n",
    "- [GO TO INDIVIDUAL CHALLENGE](#go-to-indi-challenge)\n",
    "<br/><br/>\n",
    "* Prologue\n",
    "    - [The dataset](#the-dataset)\n",
    "    - [Linear regression (OLS)](#linear-regression)\n",
    "    - [Inspiration](#inspiration)\n",
    "    - [The plan](#the-plan)\n",
    "<br/><br/>\n",
    "* Proof of concepts\n",
    "    - [Genetic algorithm explanation](#ga-explained)\n",
    "    - [Pathfinding POC](#pathfinding-poc)\n",
    "    - [Snake POC](#snake-poc)\n",
    "    - [NEAT](#neat)"
   ]
  },
  {
   "cell_type": "markdown",
   "id": "348acc51",
   "metadata": {},
   "source": [
    "# Prologue\n",
    "\n",
    "### This prologue chapter will describe what progress is made and what experiments are tried before the individual project is getting started.\n",
    "\n",
    "I started this semester by looking through some of the datasets on Kaggle, but most of these datasets have many features and lots of data. But with all beginnings it is a good thing to start with something easy to predict and visualize.\n",
    "\n",
    "The main experiment in the prologue will be trying to find a Kaggle dataset that has atleast a a little bit of a linear connection with the outcome and a single feature. This makes it possible to try out one of the simplest machine learning algorithms, Linear Regression. Because linear regression with only a single feature is so simple compared to the other algorithms  the plan is to write all the code for this algorithm from scratch to try and get a deeper understanding of how a computer can 'learn' things. Then later when the individual project is started the hope is that this deeper understanding can help me when I start using libraries to do the machine learning algorithms for me."
   ]
  },
  {
   "cell_type": "markdown",
   "id": "09bef2d2",
   "metadata": {},
   "source": [
    "## Prologue backlog\n",
    "Things to do during the prologue chapter:\n",
    "- [x] Create a Jupyter notebook\n",
    "- [x] Find a dataset with a possible linear correlation\n",
    "- [x] Split the data in training and test data\n",
    "- [x] Write the linear regression code\n",
    "- [x] Train and test with the data\n",
    "- [x] Visualize the results "
   ]
  },
  {
   "cell_type": "markdown",
   "id": "616fac87",
   "metadata": {},
   "source": [
    "<a id='the-dataset'></a>\n",
    "## The dataset\n",
    "\n",
    "Prior to this prologue I watched a few videos on linear regression to get an idea about how it works and the the math involved.\n",
    "[Linear Regression with Ordinary Least Squares Part 1](https://www.youtube.com/watchv=szXbuO3bVRk&ab_channel=TheCodingTrain)\n",
    "In this video series from the coding train he uses the example of the linear connection between the temperature outside and the amount of ice cream sold. Of course many more features could be included such as the day of the week, humidity etc and it would likely give a more accurate prediction, but for learning purposes and to get started with linear regression just looking at the temperature will suffice. \n",
    "\n",
    "Kaggle has a lot of complicated datasets and after looking at datasets for a while before starting this prologue I decided to just look for the example given in the Coding Train video. And this is the dataset I found: [Ice Cream Revenue](https://www.kaggle.com/datasets/vinicius150987/ice-cream-revenue). The only problem I have with this dataset is that it only includes the temperature and the revenue. I would have liked more features to try and make a correlation heatmap to see if the temperature would be the biggest factor in determining the revenue. I will still try to do it with this dataset just to see what happens.\n",
    "\n",
    "The revenue in the dataset is in US dollars and the temperature is in degrees Celcius."
   ]
  },
  {
   "cell_type": "code",
   "execution_count": 1,
   "id": "3144498d",
   "metadata": {
    "scrolled": true
   },
   "outputs": [
    {
     "name": "stdout",
     "output_type": "stream",
     "text": [
      "Shape: (500, 2)\n"
     ]
    },
    {
     "data": {
      "text/html": [
       "<div>\n",
       "<style scoped>\n",
       "    .dataframe tbody tr th:only-of-type {\n",
       "        vertical-align: middle;\n",
       "    }\n",
       "\n",
       "    .dataframe tbody tr th {\n",
       "        vertical-align: top;\n",
       "    }\n",
       "\n",
       "    .dataframe thead th {\n",
       "        text-align: right;\n",
       "    }\n",
       "</style>\n",
       "<table border=\"1\" class=\"dataframe\">\n",
       "  <thead>\n",
       "    <tr style=\"text-align: right;\">\n",
       "      <th></th>\n",
       "      <th>Temperature</th>\n",
       "      <th>Revenue</th>\n",
       "    </tr>\n",
       "  </thead>\n",
       "  <tbody>\n",
       "    <tr>\n",
       "      <th>0</th>\n",
       "      <td>24.566884</td>\n",
       "      <td>534.799028</td>\n",
       "    </tr>\n",
       "    <tr>\n",
       "      <th>1</th>\n",
       "      <td>26.005191</td>\n",
       "      <td>625.190122</td>\n",
       "    </tr>\n",
       "    <tr>\n",
       "      <th>2</th>\n",
       "      <td>27.790554</td>\n",
       "      <td>660.632289</td>\n",
       "    </tr>\n",
       "    <tr>\n",
       "      <th>3</th>\n",
       "      <td>20.595335</td>\n",
       "      <td>487.706960</td>\n",
       "    </tr>\n",
       "    <tr>\n",
       "      <th>4</th>\n",
       "      <td>11.503498</td>\n",
       "      <td>316.240194</td>\n",
       "    </tr>\n",
       "  </tbody>\n",
       "</table>\n",
       "</div>"
      ],
      "text/plain": [
       "   Temperature     Revenue\n",
       "0    24.566884  534.799028\n",
       "1    26.005191  625.190122\n",
       "2    27.790554  660.632289\n",
       "3    20.595335  487.706960\n",
       "4    11.503498  316.240194"
      ]
     },
     "execution_count": 1,
     "metadata": {},
     "output_type": "execute_result"
    }
   ],
   "source": [
    "import pandas as pd\n",
    "\n",
    "# df = dataframe (Data sturcture in pandas)\n",
    "df = pd.read_csv('Datasets/IceCreamData.csv')\n",
    "print('Shape: ' + str(df.shape))\n",
    "df.head()"
   ]
  },
  {
   "cell_type": "markdown",
   "id": "4f13055b",
   "metadata": {},
   "source": [
    "## Splitting the dataset\n",
    "\n",
    "To have unseen data to verify the results the data will be split up in training and test data. For now the data will be arbitrarily split into **80% training data and 20% test data**."
   ]
  },
  {
   "cell_type": "code",
   "execution_count": 2,
   "id": "1bf32cca",
   "metadata": {},
   "outputs": [
    {
     "name": "stdout",
     "output_type": "stream",
     "text": [
      "Training data shape: (400, 2)\n",
      "Test data shape: (100, 2)\n",
      "Split percentage (Training|Test) (80|20)\n"
     ]
    }
   ],
   "source": [
    "from sklearn.model_selection import train_test_split\n",
    "import math\n",
    "\n",
    "train_data, test_data = train_test_split(df, test_size=0.2)\n",
    "print('Training data shape: {}'.format(train_data.shape))\n",
    "print('Test data shape: {}'.format(test_data.shape))\n",
    "train_percent = math.floor(train_data.shape[0] / df.shape[0] * 100)\n",
    "test_percent = math.floor(test_data.shape[0] / df.shape[0] * 100)\n",
    "print('Split percentage (Training|Test) ({}|{})'.format(train_percent, test_percent))"
   ]
  },
  {
   "cell_type": "markdown",
   "id": "5bebe055",
   "metadata": {},
   "source": [
    "## Plotting the dataset and predictions\n",
    "\n",
    "I am going to plot the dataset to see if there is a linear correlation between the temperature and the revenue. The expectation is that there will be a linear correlation since the description of this dataset in Kaggle mentioned that the dataset 'is a simple sample dataset for training'. There could be a few outliers because the data is split up on revenue per day, but it also could be removed by the owner of the dataset because the dataset is just for beginners to get started.\n",
    "\n",
    "And obviously the expectation is that the higher the temperature the higher the revenue will be. This means that the line that will be predicted will look something like this: <img alt=\"Expected Line\" src=\"https://i.imgur.com/ZnRufks.png\"/>\n",
    "\n",
    "The formula for a line is \\begin{equation} y = mx + b\n",
    "\\end{equation} and my prediction is that the value for b is going to be low as it is the intersection with the y-axis or the value when x = 0 which in this case means 0 degrees celcius."
   ]
  },
  {
   "cell_type": "code",
   "execution_count": 3,
   "id": "55f5ed81",
   "metadata": {
    "scrolled": true
   },
   "outputs": [
    {
     "data": {
      "image/png": "[encoded data removed]",
      "text/plain": [
       "<Figure size 432x288 with 1 Axes>"
      ]
     },
     "metadata": {
      "needs_background": "light"
     },
     "output_type": "display_data"
    }
   ],
   "source": [
    "import matplotlib.pyplot as plt\n",
    "\n",
    "%matplotlib inline\n",
    "\n",
    "# layout for all the graphs\n",
    "plt_bg_color = '#303845'\n",
    "plt_alpha = 0.08\n",
    "plt_outline_color = 'white'\n",
    "plt_txt_color = 'white'\n",
    "\n",
    "def setup_layout():\n",
    "    fig = plt.figure()\n",
    "    fig.patch.set_facecolor(plt_outline_color)\n",
    "    fig.patch.set_alpha(plt_alpha)\n",
    "    ax = fig.add_subplot(1,1,1)\n",
    "    ax.set_facecolor(plt_bg_color)\n",
    "\n",
    "def setup_graph():\n",
    "    plt.xlabel('Temparature', color=plt_txt_color)\n",
    "    plt.ylabel('Revenue', color=plt_txt_color)\n",
    "    plt.legend(loc='upper left')\n",
    "    plt.show()\n",
    "\n",
    "    \n",
    "setup_layout()\n",
    "plt.title('The complete dataset', color=plt_txt_color)\n",
    "plt.scatter(df['Temperature'], df['Revenue'], color = '#2071A9', label = 'All data')\n",
    "setup_graph()"
   ]
  },
  {
   "cell_type": "markdown",
   "id": "4750370d",
   "metadata": {},
   "source": [
    "As expected the data points are clearly scattered in close proximity of a line. There are also no real outliers, which is not what I hoped because I would have liked to get some practice removing outliers from the dataset."
   ]
  },
  {
   "cell_type": "markdown",
   "id": "5e8ab95b",
   "metadata": {},
   "source": [
    "<a id='linear-regression'></a>\n",
    "## Linear regression\n",
    "\n",
    "In my understanding linear regression is a way for a machine to try and find the best linear formule for the training data that is given. Where the x-axis is the feature that is used for the prediction and the y-axis the value that is being predicted. The formula for a line is y = mx + b and since x is the input linear regression tries to find the best m and b value for the given data. After the best line for the data is found new input data can be given and the line can predict what the output will be.  \n",
    "\n",
    "There also seem to be multiple methods to apply linear regression:\n",
    "* Ordinary least squares\n",
    "* Gradient descend\n",
    "\n",
    "There might me more than the once listed above but these are the ones I found so far.\n",
    "For this prologue I am atleast going to look at the ordinary least squares method first, because I already looked at gradient descend before starting this semester and the math can become very complex and gradient descend can also be used when training a neural network, so maybe something to look at later in the semester."
   ]
  },
  {
   "cell_type": "markdown",
   "id": "961a5d49",
   "metadata": {},
   "source": [
    "## Ordinary least squares\n",
    "\n",
    "Ordinary least squares (OLS) is a way of estimating the unknown parameters (m and b) in a linear regression model. The algorithm that I am going to use for OLS is: ![OLS algorithm](https://i.imgur.com/XgxOYJf.png)This algorithm was explained in part 2 of the Coding Train series [Linear Regression with Ordinary Least Squares Part 2 ](https://www.youtube.com/watch?v=_cXuvTQl090&ab_channel=TheCodingTrain) The algorithm looks at the squared sum of all the errors and tries to minimize the sum. The errors get squared to make the negative numbers (the errors below the predicted line) not cancel out the positive errors above the line. \n",
    "\n",
    "![OLS error](https://i.imgur.com/5rYA5N7.png)\n",
    "\n",
    "The OLS algorithm needs the average of all the x and y values so I get those from the training data."
   ]
  },
  {
   "cell_type": "code",
   "execution_count": 4,
   "id": "e48ef167",
   "metadata": {
    "scrolled": true
   },
   "outputs": [
    {
     "name": "stdout",
     "output_type": "stream",
     "text": [
      "x average: 21.91531608832 | y average: 515.0960322216749 \n"
     ]
    }
   ],
   "source": [
    "# There must be a more proper way to get the average of a DataFrame / series\n",
    "\n",
    "x_train_data = train_data.loc[:,'Temperature'].tolist()\n",
    "y_train_data = train_data.loc[:, 'Revenue'].tolist()\n",
    "x_avg = sum(x_train_data) / len(x_train_data)\n",
    "y_avg = sum(y_train_data) / len(y_train_data)\n",
    "print('x average: {} | y average: {} '.format(x_avg, y_avg))"
   ]
  },
  {
   "cell_type": "markdown",
   "id": "1a3df985",
   "metadata": {},
   "source": [
    "After calculating the averages it is possible to apply the rest of the formula on the training data.\n",
    "m is calculated with the formule shown earlier.\n",
    "When m is known b is easy to calculate. Because a linear formula is **y = mx+b**, which can be written as **b + mx = y** if both sides are reduced with mx we get the formula for b. **b = y - mx**"
   ]
  },
  {
   "cell_type": "code",
   "execution_count": 5,
   "id": "fe6c006a",
   "metadata": {},
   "outputs": [
    {
     "name": "stdout",
     "output_type": "stream",
     "text": [
      "y = 21.39 * x + 46.33\n"
     ]
    }
   ],
   "source": [
    "m = b = 0\n",
    "\n",
    "# Ordinary least squares\n",
    "numerator = 0 # teller\n",
    "denominator = 0 # noemer\n",
    "for i in range(len(x_train_data)):\n",
    "    x = x_train_data[i]\n",
    "    y = y_train_data[i]\n",
    "    numerator += (x - x_avg) * (y - y_avg)\n",
    "    denominator += (x - x_avg) ** 2\n",
    "m = numerator / denominator # could be scary if denominator is 0, but that is very unlikely \n",
    "b = y_avg - m * x_avg\n",
    "\n",
    "print('y = {} * x + {}'.format(round(m,2), round(b,2)))"
   ]
  },
  {
   "cell_type": "markdown",
   "id": "d3791a36",
   "metadata": {},
   "source": [
    "If I did it right the best m value for the line is approximately **21.27** and the best b value would be approximately **49.18**. I don't have an idea on how to check if this is good or not or how to give it an accuracy score. But a good first indication might be too look at the average error between all points in the training and test data. The average error in the training data should be lower, but it might not be a huge difference without the outliers and a data set that fits linear regression so well.\n",
    "> After re-running the Kernel it seems that the data that is taken when splitting is random. This means that the results are not exactly the same everytime the Kernel runs."
   ]
  },
  {
   "cell_type": "code",
   "execution_count": 6,
   "id": "d85bf825",
   "metadata": {},
   "outputs": [
    {
     "name": "stdout",
     "output_type": "stream",
     "text": [
      "Average error in training data: 19.83 \n",
      "Average error in test data: 18.64\n"
     ]
    }
   ],
   "source": [
    "avg_error_train = 0;\n",
    "for i in range(len(x_train_data)):\n",
    "    x = x_train_data[i]\n",
    "    y = y_train_data[i]\n",
    "    avg_error_train += abs(y - (m * x + b))\n",
    "\n",
    "avg_error_train /= len(x_train_data)\n",
    "\n",
    "\n",
    "x_test_data = test_data.loc[:,'Temperature'].tolist()\n",
    "y_test_data = test_data.loc[:, 'Revenue'].tolist()\n",
    "avg_error_test = 0;\n",
    "\n",
    "for i in range(len(x_test_data)):\n",
    "    x = x_test_data[i]\n",
    "    y = y_test_data[i]\n",
    "    avg_error_test += abs(y - (m * x + b))\n",
    "\n",
    "avg_error_test /= len(x_test_data)\n",
    "\n",
    "print('Average error in training data: {} \\nAverage error in test data: {}'\n",
    "      .format(round(avg_error_train,2), round(avg_error_test,2)))"
   ]
  },
  {
   "cell_type": "markdown",
   "id": "e2fcdca5",
   "metadata": {},
   "source": [
    "To figure out if what I did was even remotely right I will try to loop through all reasonable values for m and b to see if I can find a line that can better represent the data. I get that this method is flawed because I it will only loop through integer numbers an ignore decimal values. But it still should give an indication if the line that I found is reasonable."
   ]
  },
  {
   "cell_type": "code",
   "execution_count": 7,
   "id": "415acd27",
   "metadata": {
    "scrolled": false
   },
   "outputs": [
    {
     "name": "stdout",
     "output_type": "stream",
     "text": [
      "Lowest error found: 19.93412899262001\n",
      "LOS error: 19.829402581684366\n",
      "Difference: 0.10472641093564405\n"
     ]
    }
   ],
   "source": [
    "# bf = brute force\n",
    "avg_error_bf = avg_error_train + 1;  \n",
    "bf_errors = []\n",
    "\n",
    "\n",
    "for m_val in range(50):\n",
    "    for b_val in range(75):\n",
    "        avg_error_bf = 0\n",
    "        for i in range(len(x_train_data)):\n",
    "            x = x_train_data[i]\n",
    "            y = y_train_data[i]\n",
    "            avg_error_bf += abs(y - (m_val * x + b_val))\n",
    "        \n",
    "        avg_error_bf /= len(x_train_data)\n",
    "        bf_errors.append(avg_error_bf)\n",
    "        if avg_error_bf <= avg_error_train:\n",
    "             print('A BETTER LINE FOUND WITH M: {} AND B: {} avg error {}'.format(rand_m, rand_b, avg_error_random))\n",
    "\n",
    "print('Lowest error found: {}\\nLOS error: {}\\nDifference: {}'\n",
    "      .format(\n",
    "          min(bf_errors),\n",
    "          avg_error_train,\n",
    "          min(bf_errors) - avg_error_train)\n",
    "       )"
   ]
  },
  {
   "cell_type": "markdown",
   "id": "5d668141",
   "metadata": {},
   "source": [
    "This little test shows that there are atleast no rounded number within a reasonable range that fits the data closer than what I found using OLS. This result makes me think that I applied the algorithm correctly, but there still might be a better solution out there. \n",
    "\n",
    "And the difference between the brute force method and the OLS method is really low, in some splits less than 0.2. This was not what I expected. But OLS still gives a better result than this brute force method and will hold up better with a larger dataset, because the time to calculate the values doesn't increase exponentially."
   ]
  },
  {
   "cell_type": "markdown",
   "id": "9c1678be",
   "metadata": {},
   "source": [
    "The last way I will try to find if the results of the OLS algorithms are useful I will try to plot the test data and the prediction line in the same graph. If they overlap the line found by the algorithm is a good fit for the data. I didn't do this step earlier because I didn't know how to draw multiple things in a single graph, but after training more with the pandas course from Kaggle and reading documentation on the plotlib library I figured it out."
   ]
  },
  {
   "cell_type": "code",
   "execution_count": 8,
   "id": "5c9573f9",
   "metadata": {},
   "outputs": [
    {
     "data": {
      "image/png": "[encoded data removed]",
      "text/plain": [
       "<Figure size 432x288 with 1 Axes>"
      ]
     },
     "metadata": {
      "needs_background": "light"
     },
     "output_type": "display_data"
    },
    {
     "data": {
      "image/png": "[encoded data removed]",
      "text/plain": [
       "<Figure size 432x288 with 1 Axes>"
      ]
     },
     "metadata": {
      "needs_background": "light"
     },
     "output_type": "display_data"
    }
   ],
   "source": [
    "import numpy as np\n",
    "\n",
    "# Setting up the line\n",
    "min_x = df['Temperature'].min()\n",
    "max_x = df['Temperature'].max()\n",
    "x = np.linspace(min_x, max_x, 2) # create the outer points of the line\n",
    "\n",
    "def draw_prediction_graph(title, label, dataset, scatter_color):\n",
    "    setup_layout()\n",
    "    plt.title(title, color=plt_txt_color)\n",
    "    plt.scatter(dataset['Temperature'], dataset['Revenue'], color = scatter_color, label = label)\n",
    "    plt.plot(x, m * x + b, color = 'red', label = 'prediction', linewidth = 2)\n",
    "    setup_graph()\n",
    "    \n",
    "# Training data with prediction\n",
    "draw_prediction_graph('Training data with prediction line', 'Training data', train_data, 'blue')\n",
    "\n",
    "# Test data with prediction\n",
    "draw_prediction_graph('Test data with prediction line', 'Test data', test_data, 'cyan')\n",
    "\n",
    "\n",
    "\n",
    "\n"
   ]
  },
  {
   "cell_type": "markdown",
   "id": "97c3de2f",
   "metadata": {},
   "source": [
    "## Prologue conclusion\n",
    "\n",
    "During this prologue I learned a lot: I managed to find a dataset that would be easy to startwith,  I started working with a Jupyter notebook and got used to using the Python syntax, I plotted graphs with the matplot library and split the dataset in test and training data and finally applied linear regression with the ordinary least squares method to calculate a line that fits the dataset. After that I validated my results by calculating the average error, trying out a brute force algorithm to see if my answer is reasonable and I plotted the prediction line against the data. And even though I succeeded with this dataset, the computer did not really learn, it just applied a mathemetical formula on all the given data at once to find the best line. \n",
    "During the rest of the semester I would also like to look at problems that are more complex and where the computer gradually gets better until it can confidently solve the problem.\n"
   ]
  },
  {
   "cell_type": "markdown",
   "id": "1f825650",
   "metadata": {},
   "source": [
    "## Version control\n",
    "After writing the Prologue it seemed like a good idea to put the notebook into Git and onto Github for version management and to have an online backup. It is also good preperation for the group project that likely will also have a notebook on Github.\n",
    "\n",
    "As a software major I try not to overengineer the projects that I pursue during this semester I think putting the project on Github still adds value, especially for the group projects, but also in addition to the checkpoints that Jupyter creates.\n",
    "\n",
    "Because of my major it was easy to put the notebook into Git. The only downside is that because the notebook is a mixture of markdown and code spread over different cells, the changes are difficult to view. The solution I found was using a tool called [ReviewNB](https://app.reviewnb.com/) that lets you view the changes on Github. In the near future I would also like find a solution to view my changes locally before I push them to Github.\n",
    "\n",
    "After reading this [blog](https://blog.reviewnb.com/jupyter-version-control/) I found the option of adding [jupyterlab-git](https://github.com/jupyterlab/jupyterlab-git) to the notebook, but I couldn't get this to work. So instead I will use the merge editor from Visual Studio Code to deal with local merge requests in the notebook."
   ]
  },
  {
   "cell_type": "markdown",
   "id": "76cce6f4",
   "metadata": {},
   "source": [
    "<a id='inspiration'></a>\n",
    "## Inspiration\n",
    "\n",
    "The goal after writing the Prologue is to find inspiration for my individual challenge of the semester. Before the start of this semester I did a little bit of research into NN (neural network(s)) and I would like to learn more about how they can be applied and structured.\n",
    "\n",
    "Before the start of the semester I already followed youtubers that also made videos about AI, so that is the first place I went to for inspiration. I watched all the projects made by Code Bullet and the series about [Genetic Algorithms](https://www.youtube.com/playlist?list=PLRqwX-V7Uu6bJM3VgzjNV5YxVxUwzALHV) by The Coding Train. Here I learned that a genetic algorithms is basically a type of reinforcement learning that is trying to simulate the idea of evolution theory with code. I instantly got hooked on the idea of doing something with a genetic algorithm, because of a couple reasons:\n",
    "  - I find the idea of applying real world phenomena in code appealing;\n",
    "  - It is great for story telling and visualisation and validation, because when you do it right you can actually see the agents improving and evolving over time.\n",
    "  - The results can be fascinating, funny and unpredictable as the agents might try to cheat the system, fail horribly in the beginning or come up with revolutionary ideas while improving. \n",
    "  - A genetic algorithm can be used together with a neural network.\n",
    "  - Agents can become so good at some of the tasks that humans could never compare.\n",
    "  \n",
    "The projects that inspired me the most are:\n",
    "<br/>\n",
    "<br/>\n",
    "<p style=\"text-align: center;\"><b>NeuroEvolution Flappy Bird from The Coding Train</b></p>\n",
    "<img src='https://i.imgur.com/ZqECySW.png' alt='NeuroEvolution Flappy bird'>\n",
    " \n",
    "<p style=\"text-align: center;\"><b>NeuroEvolution Jump King from Code Bullet</b></p>\n",
    "<img src='https://i.imgur.com/SzM9tHR.png' alt='NeuroEvolution Jump King'>\n",
    "\n",
    "<br/>\n",
    "In one of the Code Bullet videos he mentioned that he is using an algorithm similar to what Open AI used to beat dota. I never heard of Open AI, but I know that Dota is a very hard game to play for a computer therefore I started looking into the projects build by open AI. There I found the following inpressive projects:\n",
    "\n",
    "<p style=\"text-align: center;\"><b>Open AI Five playing Dota 2</b></p>\n",
    "<img src='https://i.imgur.com/efCubqT.png' alt='Open AI Five playing Dota 2'>\n",
    "Open AI managed to beat the world champions with their Dota AI\n",
    "They also used NeuroEvolution and self play to teach AIs to play hide and seek.  \n",
    "\n",
    "<p style=\"text-align: center;\"><b>Open AI playing hide and seek</b></p>\n",
    "<img src='https://i.imgur.com/94MlTS2.png' alt='Open AI playing hide and seek'>\n",
    "\n",
    "These open AI projects are really impressive to me as Dota is very difficult to teach, because it is a really complex game with lots of variety and an environment that is constantly changing. It also is a team game requiring the bots to play well together.  \n",
    "\n",
    "The hide and seek game peaked my interests, because the different generations got placed in increasingly diffucult scenarios and everytime either the hiding (defending) or seeking (attacking) team came up with a new stratergy later generations of the other team would find a way to break the new found strategy. And eventually the attacking team even found a way to break the physics engine to surf on top of a box and jump over the walls set up by the defending team (shown in the image below).  \n",
    "\n",
    "<p style=\"text-align: center;\"><b>Attacking team cheating the system</b></p>\n",
    " <img src='https://i.imgur.com/pKDNzsf.png' alt='Attacking team box surfing hide and seek'>\n",
    "\n",
    "Of course Open AI is a major company and this is unrealistic for my individual challenge, but the hope is that my individual challenge will also have the different generations show funny, genius or unexpected solutions that humans can learn from. I also think that AI works best when the powers of the AI and Humans are combined, so if time allows it I would also like to implement a way for humans to be in the created environment alongside the AI.\n",
    "<br/>\n",
    "\n",
    "<p style=\"text-align: center;\"><b>Primer</b></p>\n",
    "Through watching videos of the channels above I also found the [Primer youtube channel](https://www.youtube.com/primerlearning). This channel has a lot of videos of visualizations of genetic algorithms in different environments. And the subjects covered by Primer are also really well explained and easy to understand.\n",
    "\n",
    "![Primer Foraging Video](https://i.imgur.com/NKegoJo.png)\n",
    "\n",
    "His video about [Simulating Foraging Decisions](https://youtu.be/nsVD8VPh96w) gave me the idea to create a survival simulation for my individual project.\n",
    "\n",
    "But to be a managable project it has to be an easy simulation with easy decisions like should I forage a tree for food or should I cut down the tree for wood and create a fire?\n",
    "\n",
    "![Easy Not Difficult](https://i.imgur.com/uZvHALX.png)\n"
   ]
  },
  {
   "cell_type": "markdown",
   "id": "b532e5e8",
   "metadata": {},
   "source": [
    "<a id='skip-prologue'></a>\n",
    "# The plan\n",
    "\n",
    "After finding these various sources of inspiration I decided that I want to make a survival simulator. The survivors could have stats like hunger and warmth, thirst and they need to find resources to keep their stats up. \n",
    "\n",
    "The creatures that survive long enough will have a higher chance of producing offspring. This should lead to later generations being able to survive longer than their predecessors. \n",
    "\n",
    "I think this is an ambitous plan and for that reason I will start simple and make the environment more complex once the survivors have found a consistant way or surviving in their current environment.\n",
    "\n",
    "If the project goes really well then later environments could include things like the survivors being able to make a fire to stay warm, animals trying to hunt the survivors or a mechanic to encourage the survivors to work together (Altruism / Inclusive fitness).\n",
    "\n",
    "### The goals\n",
    "These are the goals I hope to achieve with this challenge:\n",
    "  - Create a simple survival simulator that can be made more complex in the future.\n",
    "  - Use a genetic algorithm to evolve the creatures to get better at surviving and adapting to their environment\n",
    "  - Collect and visualize the data generated by the creatures and the world and use this to find generations with funny, unexpected or clever behaviour.\n",
    "  - Allow a human to enter the simulation and survive with the AI's to see how humans and AI's interact.\n",
    "\n",
    "\n",
    "### Prototyping idea \n",
    "I want to start by building a quick prototype to see if I am going to run into any limitations. I am planning to use PyGame for the visualisation, but do the other calculations myself so the program can run and train without PyGame aswell.\n",
    "For the first version of the simulation the plan is to only have survivors and trees in the world and see if the survivors can learn to harvest fruit from the trees to survive.\n",
    "\n",
    "Before building the survival prototype I wanted to get used to PyGame. And an easy project to learn the ropes is the classic game snake.\n",
    "<br>\n",
    "<p style=\"text-align: center;\"><b>Learning PyGame with snake</b></p>\n",
    "\n",
    "![Snake in PyGame](https://i.imgur.com/nMtLab5.png)\n",
    "\n",
    "<p style=\"text-align: center;\"><b>First version of the survival simulation</b></p>\n",
    "\n",
    "![First prototype](https://i.imgur.com/Dl62fHm.png)\n",
    "<br>\n",
    "#### Optimizations\n",
    "I took a few precautions to help with the simulation speed and hopefully help speed up the training later, but because these optimizations are not closely related to AI I will not discuss them here. I however will discuss them in the [Readme file](https://github.com/MatthijsFontys/AISocietyIndividualProject/blob/master/README.md) that is on the Github for this project."
   ]
  },
  {
   "cell_type": "markdown",
   "id": "285ce0ac",
   "metadata": {},
   "source": [
    "<a id='ga-explained'></a>\n",
    "\n",
    "# Genetic algorithm\n",
    "\n",
    "In the goals section I specify that I want the survivors to solve their environment using a genetic algorithm. To clarify this I will define my definition of a genetic algorithm below:\n",
    "<br/><br/>\n",
    "\n",
    "A genetic algorithm is an algorithm that starts with a population of a chosen size. Each member of the population gets their DNA randomly generated. Then all members of the population are continuously given a fitness score based on their performance. \n",
    "<br/><br/>\n",
    "The population must be able to change. This can happen through replacing the old generation with an entirely new generation all at once, or by removing members with a low fitness score and slowly adding new members to the population.\n",
    "<br/><br/>\n",
    "The process of creating new members fit for the population is the following:\n",
    "- Two parents are chosen from the current population with a probability according to relative fitness.\n",
    "- New members have DNA that is combined from its parents. (crossover)\n",
    "- The new member's DNA is changed (mutated) based on a given probability (mutation rate) to account for a possible lack of variety in the starting population.\n",
    "- The new unit is added to the population\n",
    "\n",
    "<img alt=\"Genetic algoritym explained\" src=\"https://i.imgur.com/78s1aOR.png\" style=\"width:50%;height:auto\"/>\n",
    "\n",
    "<br/>\n",
    "\n",
    "Each new generation also gets a fitness value and eventually replaced with members of a new generation.\n",
    "\n",
    "To clarity: the DNA can be anything that can help a member of the population achieve its goals. In simple scenarios these even could be arrays of integer values or Vectors. But in more complex scenarios and changing environments the DNA consists of a neural network. Where each generation evolves the values for the weights in the network. And atleast in my understanding when a genetic algorithm gets paired with Neural Networks it is called NeuroEvolution\n",
    "\n"
   ]
  },
  {
   "cell_type": "markdown",
   "id": "f5275802",
   "metadata": {},
   "source": [
    "<a id='pathfinding-poc'></a>\n",
    "\n",
    "# Genetic Algorithm pathfinding\n",
    "\n",
    "A genetic algorithm can potentially find a solution for the given problem as long as the environment does not change. This means it is possible to learn and implement the pinciples of a genetic algorithm without having to also add a Neuralnetwork immediately.\n",
    "\n",
    "The plan was to first try out the genetic algorithm with snake, but the snake environment keeps changing, because the food appears in random locations. For this reason I am going to make a genetic algorithm that will try to find the shortest path to its destination. A real pathfinding algorithm would probably do this faster, but it is just to try out the genetic algorithm principles.\n",
    "\n",
    "But in the end I also would like to visualize the solution, so this is the environment vizualised with PyGame.\n",
    "\n",
    "A few notes:\n",
    "- The blue tile is the starting tile\n",
    "- The green tile is the finish\n",
    "- The AI can not move diagonally\n",
    "\n",
    "<img alt=\"Path Finding Environment\" src=\"https://i.imgur.com/HDfPbpH.png\" style=\"width:55%;height:auto\"/>\n",
    "\n",
    "\n"
   ]
  },
  {
   "cell_type": "markdown",
   "id": "de8f5526",
   "metadata": {},
   "source": [
    "## Initial population\n",
    "\n",
    "To create the initial generation a list is filled with agents that are going to find the best path. But the initial population will likely do poorly, because their DNA will be set to random values at first.\n",
    "\n",
    "The DNA that the agents get is just a long list with directions, so either up, down, left or right.\n",
    "For the length of the DNA list I choose 64, because this grid is 8 by 8 so the longest possible route is 64 so by matching this in the DNA length the agents will always have enough instructions.\n",
    "\n",
    "For the notebook I make only 10 for the initial population, because it will make the visualization easier. The actual code used a population size of 300.  \n",
    "\n",
    "So the DNA of a single agent would look something like this\n",
    "\n",
    "<img alt=\"Path Finding Environment\" src=\"https://i.imgur.com/4MHGVvu.png\" style=\"width:80%;height:auto\"/>\n"
   ]
  },
  {
   "cell_type": "code",
   "execution_count": 9,
   "id": "0af74f20",
   "metadata": {},
   "outputs": [],
   "source": [
    "import random\n",
    "\n",
    "class PathDna:\n",
    "    def __init__(self):\n",
    "        # LEFT, RIGHT, UP DOWN\n",
    "        self.OPTIONS = [(-1, 0), (1, 0), (0, -1), (0, 1)]\n",
    "        # actual code uses width * height for dna length\n",
    "        self.data = [random.choice(self.OPTIONS) for i in range(10)]\n",
    "        self.times_chosen = 0 # Just here for helping visualization of selection\n",
    "\n",
    "class PathAgent:\n",
    "    def __init__(self):\n",
    "        self.dna = PathDna()\n",
    "        self.score = 0\n",
    "        self.times_chosen = 0\n",
    "    \n",
    "\n",
    "path_agents = []\n",
    "for i in range(10):\n",
    "    path_agents.append(PathAgent())\n",
    "\n",
    "\n",
    "        "
   ]
  },
  {
   "cell_type": "markdown",
   "id": "f490f421",
   "metadata": {},
   "source": [
    "## Selection\n",
    "\n",
    "For virtualization purposes I give the agents a score from 1 to 10 manually below, but in the actual code the agents get scored based on the following:\n",
    "- Their distance from the finish\n",
    "- If they reached the finish\n",
    "- How many moves it took them to reach the finish\n",
    "\n",
    "Then I use an algorithm to pick the parents for the next generation where the likelyhood of being picked is linked to their score."
   ]
  },
  {
   "cell_type": "code",
   "execution_count": 10,
   "id": "00d2a3c9",
   "metadata": {},
   "outputs": [],
   "source": [
    "summed_score = 0\n",
    "\n",
    "for i, agent in enumerate(path_agents):\n",
    "    score = (i + 1)\n",
    "    agent.score = score\n",
    "    summed_score += score"
   ]
  },
  {
   "cell_type": "code",
   "execution_count": 11,
   "id": "587c4914",
   "metadata": {},
   "outputs": [
    {
     "data": {
      "image/png": "[encoded data removed]",
      "text/plain": [
       "<Figure size 432x288 with 1 Axes>"
      ]
     },
     "metadata": {
      "needs_background": "light"
     },
     "output_type": "display_data"
    }
   ],
   "source": [
    "amount_to_choose = 10_000\n",
    "for i in range(amount_to_choose):\n",
    "    rand = random.random()\n",
    "    for agent in path_agents:\n",
    "        rand -= agent.score / summed_score\n",
    "        if rand <= 0:\n",
    "            agent.times_chosen += 1\n",
    "            break\n",
    "            \n",
    "percent_score = []\n",
    "scores = []\n",
    "percent_chosen = []\n",
    "for agent in path_agents:\n",
    "    scores.append(agent.score)\n",
    "    percent_score.append(round(agent.score / summed_score, 2))\n",
    "    percent_chosen.append(round(agent.times_chosen / amount_to_choose,2) * 100)\n",
    "\n",
    "\n",
    "selection_df = pd.DataFrame({\n",
    "    'Score': scores,\n",
    "    #'Percent of summed score': percent_score,\n",
    "    'Percent of total chosen': percent_chosen\n",
    "})\n",
    "\n",
    "setup_layout()\n",
    "plt.title('Agents times picked relative to score', color=plt_txt_color)\n",
    "plt.bar(data=selection_df, x='Score', height='Percent of total chosen', color='#4A945D')\n",
    "plt.xlabel('Score', color=plt_txt_color)\n",
    "plt.ylabel('Percentage chosen', color=plt_txt_color) # Idk if this is correct tho\n",
    "\n",
    "plt.show()\n"
   ]
  },
  {
   "cell_type": "markdown",
   "id": "85634d90",
   "metadata": {},
   "source": [
    "## Crossover\n",
    "\n",
    "The dna of the offspring will equal the length of its parents' dna and for each part of the dna it will randomly get the value from either of its parents. "
   ]
  },
  {
   "cell_type": "code",
   "execution_count": 12,
   "id": "9ce0e241",
   "metadata": {},
   "outputs": [
    {
     "data": {
      "text/html": [
       "<div>\n",
       "<style scoped>\n",
       "    .dataframe tbody tr th:only-of-type {\n",
       "        vertical-align: middle;\n",
       "    }\n",
       "\n",
       "    .dataframe tbody tr th {\n",
       "        vertical-align: top;\n",
       "    }\n",
       "\n",
       "    .dataframe thead th {\n",
       "        text-align: right;\n",
       "    }\n",
       "</style>\n",
       "<table border=\"1\" class=\"dataframe\">\n",
       "  <thead>\n",
       "    <tr style=\"text-align: right;\">\n",
       "      <th></th>\n",
       "      <th>Parent A</th>\n",
       "      <th>Parent B</th>\n",
       "      <th>Offspring</th>\n",
       "    </tr>\n",
       "  </thead>\n",
       "  <tbody>\n",
       "    <tr>\n",
       "      <th>0</th>\n",
       "      <td>Right</td>\n",
       "      <td>Up</td>\n",
       "      <td>Right</td>\n",
       "    </tr>\n",
       "    <tr>\n",
       "      <th>1</th>\n",
       "      <td>Down</td>\n",
       "      <td>Down</td>\n",
       "      <td>Down</td>\n",
       "    </tr>\n",
       "    <tr>\n",
       "      <th>2</th>\n",
       "      <td>Up</td>\n",
       "      <td>Left</td>\n",
       "      <td>Up</td>\n",
       "    </tr>\n",
       "    <tr>\n",
       "      <th>3</th>\n",
       "      <td>Right</td>\n",
       "      <td>Right</td>\n",
       "      <td>Right</td>\n",
       "    </tr>\n",
       "    <tr>\n",
       "      <th>4</th>\n",
       "      <td>Up</td>\n",
       "      <td>Right</td>\n",
       "      <td>Up</td>\n",
       "    </tr>\n",
       "    <tr>\n",
       "      <th>5</th>\n",
       "      <td>Down</td>\n",
       "      <td>Up</td>\n",
       "      <td>Up</td>\n",
       "    </tr>\n",
       "    <tr>\n",
       "      <th>6</th>\n",
       "      <td>Left</td>\n",
       "      <td>Down</td>\n",
       "      <td>Down</td>\n",
       "    </tr>\n",
       "    <tr>\n",
       "      <th>7</th>\n",
       "      <td>Left</td>\n",
       "      <td>Up</td>\n",
       "      <td>Left</td>\n",
       "    </tr>\n",
       "    <tr>\n",
       "      <th>8</th>\n",
       "      <td>Down</td>\n",
       "      <td>Down</td>\n",
       "      <td>Down</td>\n",
       "    </tr>\n",
       "    <tr>\n",
       "      <th>9</th>\n",
       "      <td>Down</td>\n",
       "      <td>Left</td>\n",
       "      <td>Left</td>\n",
       "    </tr>\n",
       "  </tbody>\n",
       "</table>\n",
       "</div>"
      ],
      "text/plain": [
       "  Parent A Parent B Offspring\n",
       "0    Right       Up     Right\n",
       "1     Down     Down      Down\n",
       "2       Up     Left        Up\n",
       "3    Right    Right     Right\n",
       "4       Up    Right        Up\n",
       "5     Down       Up        Up\n",
       "6     Left     Down      Down\n",
       "7     Left       Up      Left\n",
       "8     Down     Down      Down\n",
       "9     Down     Left      Left"
      ]
     },
     "execution_count": 12,
     "metadata": {},
     "output_type": "execute_result"
    }
   ],
   "source": [
    "OPTIONS = [(-1, 0), (1, 0), (0, -1), (0, 1)]\n",
    "\n",
    "parent_a = path_agents[-1].dna.data\n",
    "parent_b = path_agents[-2].dna.data\n",
    "child_dna = []\n",
    "\n",
    "for i in range(len(parent_a)):\n",
    "    parent = random.choice([parent_a, parent_b])\n",
    "    child_dna.append(parent[i])\n",
    "\n",
    "# Visualizing the result\n",
    "OPTIONS_TXT = ['Left', 'Right', 'Up', 'Down']\n",
    "def dna_to_txt(dna):\n",
    "    return map(lambda x: OPTIONS_TXT[OPTIONS.index(x)], dna)\n",
    "    \n",
    "data = [\n",
    "    dna_to_txt(parent_a),\n",
    "    dna_to_txt(parent_b),\n",
    "    dna_to_txt(child_dna)\n",
    "]\n",
    "crossover = pd.DataFrame(data).transpose()\n",
    "crossover.columns = ['Parent A', 'Parent B', 'Offspring']\n",
    "crossover.head(10)\n",
    "    "
   ]
  },
  {
   "cell_type": "markdown",
   "id": "f56eed2c",
   "metadata": {},
   "source": [
    "## Mutation\n",
    "\n",
    "After the offspring inherited its dna from its parents each of the values has a chance according to the mutation rate to mutate into a random new direction to keep enough variation in the new populations. \n",
    "\n",
    "The actual mutation rate that I used is much lower around 3 percent, but for the example I use a high percentage to better show that some of the child's values change due to mutation.\n",
    "\n",
    "Of course there is a chance that the new mutated value is the same as the value before mutation."
   ]
  },
  {
   "cell_type": "code",
   "execution_count": 13,
   "id": "a2f3d56d",
   "metadata": {},
   "outputs": [
    {
     "data": {
      "text/html": [
       "<div>\n",
       "<style scoped>\n",
       "    .dataframe tbody tr th:only-of-type {\n",
       "        vertical-align: middle;\n",
       "    }\n",
       "\n",
       "    .dataframe tbody tr th {\n",
       "        vertical-align: top;\n",
       "    }\n",
       "\n",
       "    .dataframe thead th {\n",
       "        text-align: right;\n",
       "    }\n",
       "</style>\n",
       "<table border=\"1\" class=\"dataframe\">\n",
       "  <thead>\n",
       "    <tr style=\"text-align: right;\">\n",
       "      <th></th>\n",
       "      <th>Parent A</th>\n",
       "      <th>Parent B</th>\n",
       "      <th>Offspring</th>\n",
       "      <th>Mutated offspring</th>\n",
       "      <th>is mutated value</th>\n",
       "    </tr>\n",
       "  </thead>\n",
       "  <tbody>\n",
       "    <tr>\n",
       "      <th>0</th>\n",
       "      <td>Right</td>\n",
       "      <td>Up</td>\n",
       "      <td>Up</td>\n",
       "      <td>Right</td>\n",
       "      <td>True</td>\n",
       "    </tr>\n",
       "    <tr>\n",
       "      <th>1</th>\n",
       "      <td>Down</td>\n",
       "      <td>Down</td>\n",
       "      <td>Down</td>\n",
       "      <td>Down</td>\n",
       "      <td>False</td>\n",
       "    </tr>\n",
       "    <tr>\n",
       "      <th>2</th>\n",
       "      <td>Up</td>\n",
       "      <td>Left</td>\n",
       "      <td>Right</td>\n",
       "      <td>Up</td>\n",
       "      <td>True</td>\n",
       "    </tr>\n",
       "    <tr>\n",
       "      <th>3</th>\n",
       "      <td>Right</td>\n",
       "      <td>Right</td>\n",
       "      <td>Up</td>\n",
       "      <td>Right</td>\n",
       "      <td>True</td>\n",
       "    </tr>\n",
       "    <tr>\n",
       "      <th>4</th>\n",
       "      <td>Up</td>\n",
       "      <td>Right</td>\n",
       "      <td>Up</td>\n",
       "      <td>Up</td>\n",
       "      <td>False</td>\n",
       "    </tr>\n",
       "    <tr>\n",
       "      <th>5</th>\n",
       "      <td>Down</td>\n",
       "      <td>Up</td>\n",
       "      <td>Up</td>\n",
       "      <td>Up</td>\n",
       "      <td>False</td>\n",
       "    </tr>\n",
       "    <tr>\n",
       "      <th>6</th>\n",
       "      <td>Left</td>\n",
       "      <td>Down</td>\n",
       "      <td>Down</td>\n",
       "      <td>Down</td>\n",
       "      <td>False</td>\n",
       "    </tr>\n",
       "    <tr>\n",
       "      <th>7</th>\n",
       "      <td>Left</td>\n",
       "      <td>Up</td>\n",
       "      <td>Right</td>\n",
       "      <td>Left</td>\n",
       "      <td>True</td>\n",
       "    </tr>\n",
       "    <tr>\n",
       "      <th>8</th>\n",
       "      <td>Down</td>\n",
       "      <td>Down</td>\n",
       "      <td>Down</td>\n",
       "      <td>Down</td>\n",
       "      <td>True</td>\n",
       "    </tr>\n",
       "    <tr>\n",
       "      <th>9</th>\n",
       "      <td>Down</td>\n",
       "      <td>Left</td>\n",
       "      <td>Left</td>\n",
       "      <td>Left</td>\n",
       "      <td>False</td>\n",
       "    </tr>\n",
       "  </tbody>\n",
       "</table>\n",
       "</div>"
      ],
      "text/plain": [
       "  Parent A Parent B Offspring Mutated offspring is mutated value\n",
       "0    Right       Up        Up             Right             True\n",
       "1     Down     Down      Down              Down            False\n",
       "2       Up     Left     Right                Up             True\n",
       "3    Right    Right        Up             Right             True\n",
       "4       Up    Right        Up                Up            False\n",
       "5     Down       Up        Up                Up            False\n",
       "6     Left     Down      Down              Down            False\n",
       "7     Left       Up     Right              Left             True\n",
       "8     Down     Down      Down              Down             True\n",
       "9     Down     Left      Left              Left            False"
      ]
     },
     "execution_count": 13,
     "metadata": {},
     "output_type": "execute_result"
    }
   ],
   "source": [
    "mutation_rate = 0.40\n",
    "\n",
    "mutated_child_dna = child_dna.copy()\n",
    "\n",
    "did_mutate = []\n",
    "for i in range(len(child_dna)):\n",
    "    should_mutate = random.random() <= mutation_rate\n",
    "    if should_mutate:\n",
    "        child_dna[i] = random.choice(OPTIONS)\n",
    "    did_mutate.append(should_mutate)\n",
    "\n",
    "data = [\n",
    "    dna_to_txt(parent_a),\n",
    "    dna_to_txt(parent_b),\n",
    "    dna_to_txt(child_dna),\n",
    "    dna_to_txt(mutated_child_dna),\n",
    "    did_mutate\n",
    "]\n",
    "mutation = pd.DataFrame(data).transpose()\n",
    "mutation.columns = ['Parent A', 'Parent B', 'Offspring', 'Mutated offspring', 'is mutated value']\n",
    "mutation.head(10)\n"
   ]
  },
  {
   "cell_type": "markdown",
   "id": "153ac223",
   "metadata": {},
   "source": [
    "### Result\n",
    "\n",
    "Below is the final result of this simple experiment, where each generation tries to get to the finish with the least amount of tiles used.\n",
    "\n",
    "<img src=\"https://i.imgur.com/YAGhjG7.gif\" alt=\"[Genetic algorithm result]\" width=\"55%\" height=\"auto\" />\n",
    "\n"
   ]
  },
  {
   "cell_type": "markdown",
   "id": "1a1bbc56",
   "metadata": {},
   "source": [
    "<a id='snake-poc'></a>\n",
    "\n",
    "# Snake POC\n",
    "\n",
    "After making this pathfinding project I wanted to get started with using a neural network, and to understand how a neural network functions. So my goal was to code my own feed forward neural network that I could use to try NeuroEvolution. I needed some guidance when learning how to make my own neural network so I consulted [this playlist](https://www.youtube.com/playlist?list=PLRqwX-V7Uu6aCibgK1PTWWu9by6XFdCfh) from the Coding Train. I know I use the Coding Train as a source a lot, but he explains everything so well and makes complex math and systems easy to understand even for me, which is the main reason I consult his videos this often.  \n",
    "<br/>\n",
    "I decided to split the neural network up into two classes a layer class for each hidden layer and in / output layer in the network. And a neural network class holding all the layers and being able to recursively call all the layers to compute the result."
   ]
  },
  {
   "cell_type": "code",
   "execution_count": 14,
   "id": "e6e93b02",
   "metadata": {},
   "outputs": [],
   "source": [
    "class Layer:\n",
    "\n",
    "    def __init__(self, input_count, node_count):\n",
    "        # weight dimensions = (rows * columns) (nodes_in_layer * inputs)\n",
    "        self.input_count = input_count\n",
    "        self.node_count = node_count\n",
    "        self.weights = []\n",
    "        self.biases = []\n",
    "\n",
    "        # initialize the weights with random values between -1 and 1\n",
    "        for i in range(node_count):\n",
    "            self.weights.append([])\n",
    "            self.biases.append(random.random() * 2 - 1)\n",
    "            for j in range(input_count):\n",
    "                self.weights[i].append(random.random() * 2 - 1)\n",
    "\n",
    "    # Sigmoid activation function\n",
    "    def activate(self, values):\n",
    "        return list(map(lambda x: 1 / (1 + np.exp(-x)), values))\n",
    "\n",
    "    def feed_forward(self, inputs):\n",
    "        values = np.matmul(self.weights, inputs)\n",
    "        values = np.add(values, self.biases)\n",
    "        return self.activate(values)"
   ]
  },
  {
   "cell_type": "markdown",
   "id": "07aa2494",
   "metadata": {},
   "source": [
    "The layer class keeps track of the amount of nodes in the layer and the amount of inputs that go into the layer. It also keeps track of all the weights between the connections of the nodes in the previous layer that connect to this layer. Lastly it holds all the biases for its nodes.\n",
    "Initially all weights are given a random value between -1 and 1. I used the sigmoid activation function, because it is easy to implement and is shown in a lot of examples. I also didn't have a good reason to change the activation function to something else.\n",
    "\n",
    "In the tutorial series by the Coding Train he explains how in a feed forward network the weighted sum can be calculated by matrix multiplication and in the tutorial he continues to build his own matrix math library. This was not necessary for me since Numpy already has a method for matrix multiplication."
   ]
  },
  {
   "cell_type": "code",
   "execution_count": 15,
   "id": "d87f5a31",
   "metadata": {},
   "outputs": [],
   "source": [
    "class NeuralNetwork:\n",
    "\n",
    "    def __init__(self, input_count, output_count):\n",
    "        self.input_count = input_count\n",
    "        self.output_count = output_count\n",
    "        self.layers = []\n",
    "\n",
    "    def add_layer(self, node_count):\n",
    "        input_count = self.input_count\n",
    "        if len(self.layers) > 0:\n",
    "            input_count = self.layers[-1].node_count\n",
    "        self.layers.append(Layer(input_count, node_count))\n",
    "        return self\n",
    "\n",
    "    def build(self):\n",
    "        self.layers.append(Layer(self.layers[-1].node_count, self.output_count))\n",
    "        return self\n",
    "\n",
    "    def feed_forward(self, inputs):\n",
    "        for layer in self.layers:\n",
    "            inputs = layer.feed_forward(inputs)\n",
    "        return inputs"
   ]
  },
  {
   "cell_type": "markdown",
   "id": "adf9a190",
   "metadata": {},
   "source": [
    "There is nothing special going on in the neural network class. It just holds the amount of in and outputs to the network and has a list containing all the layers. The build method is to add the final output layer and the feed forward method just calls the feed forward method in each layer with the output of the previous one. The final output is the output of the neural network.\n",
    "\n",
    "Since this Neural network class is going to be used for NeuroEvolution I luckily did not have to include back propagation, because the math behind it does not seem easy."
   ]
  },
  {
   "cell_type": "markdown",
   "id": "20f6ddc8",
   "metadata": {},
   "source": [
    "This is how the following feed forward neural network could be used in my code\n",
    "<img src=\"https://i.imgur.com/KlbrQGw.png\" alt=\"[Example feed forward network]\" width=\"50%\" height=\"auto\" />"
   ]
  },
  {
   "cell_type": "code",
   "execution_count": 20,
   "id": "b4222e8f",
   "metadata": {},
   "outputs": [
    {
     "name": "stdout",
     "output_type": "stream",
     "text": [
      "[0.2173454068702098, 0.6231525933086539]\n"
     ]
    }
   ],
   "source": [
    "brain = NeuralNetwork(input_count=3, output_count=2).add_layer(4).build()\n",
    "inputs = [3,5,8]\n",
    "results = brain.feed_forward(inputs)\n",
    "print(results)"
   ]
  },
  {
   "cell_type": "markdown",
   "id": "669b466b",
   "metadata": {},
   "source": [
    "### Applying the neural network in snake\n",
    "\n",
    "To apply this neural network to snake I had to determine what the inputs and outputs were going to be. The outputs were not hard to decide, just the 4 directions that the snake can move in. The inputs were a little more difficult, but still fairly obvious. For the inputs I ended up choosing the following:\n",
    "\n",
    "- The x and y location of the snake's head, so it can avoid going outside the map\n",
    "- The x and y location of the food in relation to the snake's head\n",
    "- The current direction the snake is going, because the snake is not allowed to make a 180 degree turn \n",
    "- How far the closest body part of the snake is in relation to its head in every direction, to try and make it not run into itself.\n",
    "\n",
    "But the other aspects of the NeuroEvolution algorithm stayed the same. The parents are still picked based on their score. The DNA which in this case are the weights and biases in the neural network are copied randomly from the offsprings parents when a new generation is created and there still is a mutation rate to have a chance of slightly adjusting a weight of the child."
   ]
  },
  {
   "cell_type": "markdown",
   "id": "c7ee4e04",
   "metadata": {},
   "source": [
    "### Snake fitness function\n",
    "\n",
    "The most difficult part was to implement the fitness function. I started by giving the AI a little bit of points for staying alive and a lot of points for finding the food. The idea behind giving it a few points for staying alive was to try and motivate it to not run into the edges of the playing field. What ended up happening was that the AI didn't care that it only got a few points for surviving, and just kept moving in a circle never trying to go after the food theoretically getting infinite points. At first I was really naive and tried to fix this by only giving it points for surviving if a snake visited all quarters of the play area, but instead of not circling the snakes just started to move in bigger circles, still avoiding the food. I finally fixed it by keeping track of a snakes path and killing the snake and giving it a harsh score penalty if it repeats the same pattern a few times without grabbing any food.\n"
   ]
  },
  {
   "cell_type": "markdown",
   "id": "2d2a3e45",
   "metadata": {},
   "source": [
    "<a id='neat'></a>\n",
    "\n",
    "# NEAT\n",
    "\n",
    "I probably won't achieve the best results if I keep using my own neural network. This is why I was planning from the beginning to use a more sophisticated algorithm for my individual challenge, but here it also seemed smart to test it out on snake first since it is much less complicated than my own challenge.\n",
    "\n",
    "The algorithm I planned to use is called neuroevolution of augmenting topologies or NEAT for short. \n",
    "Augmenting toplogy meaning that it works with neural networks of different sizes and connections. This means that the neural network does not necessarily connect all outputs to the inputs of the next layer like in my feed forward network. During mutation it is possible to add or remove a connection or to add a new node to a hidden layer. This is what makes the algorithm so great, because otherwise you would have to train the alogithm multiple times when trying out different sizes for the hidden layers. The other special thing that NEAT does is grouping the different networks into species and to keep the best network of each species alive regardless of its score. The reasoning behind this is that a network could have a good topology, but not yet the right values for its weights, protecting this topology by keeping the species alive gives different topologies a chance to evolve further. \n",
    "\n",
    "Neat is great, but also very complex which is why I choose to not implement this algorithm myself but use a library instead. And to my knowledge Neat is not inlcuded in libraries like Scikit or Pytorch which is why I used [Neat Python](https://neat-python.readthedocs.io/en/latest/neat_overview.html) instead.\n",
    "\n",
    "I learned about Neat and how it works through:\n",
    "- [This paper](https://nn.cs.utexas.edu/downloads/papers/stanley.ec02.pdf)\n",
    "- [This video](https://www.youtube.com/watch?v=VMQOa4-rVxE)\n"
   ]
  },
  {
   "cell_type": "markdown",
   "id": "09cee94f",
   "metadata": {},
   "source": [
    "### Neat snake\n",
    "\n",
    "There is not too much to say about the implementation of Neat for the snake AI as I already had the fitness function from my own implementation. And after understanding Neat it was not too difficult to implement using the library. I however did start implementing the [strategy pattern](https://refactoring.guru/design-patterns/strategy) so I could easily switch between my own neural network and the neat implementation. This also allowed me to make different strategies for if the program should be training or showing the current best snake on screen, since running Pygame while training will slow the training down.\n",
    "\n",
    "After it was done training I saw that it got way better than it did through my own feed forward network, and even though it was performing well and could get a length of around 25 consistently it would always end up dying by running into itself. But I decided not to improve my snake AI further as it was just supposed to be a proof of concept and I still had to start my individual challenge.\n",
    "\n",
    "<p style=\"text-align: center;\"><b>Neat AI playing snake</b> </p>\n",
    "<img src='https://i.imgur.com/mvyFbjB.png' alt='Neat Snake' width='50%' />\n",
    "\n"
   ]
  },
  {
   "cell_type": "markdown",
   "id": "40a173dd",
   "metadata": {},
   "source": [
    "<a id='go-to-indi-challenge'></a>\n",
    "\n",
    "# Individual challenge\n",
    "\n",
    "The plan for the individual challenge was still to make a virtual survival simulation where creatures have learn how to survive as long as possible. And while working on snake and learning about Neat I also worked on improving the look of the environment. \n",
    "\n",
    "<p style=\"text-align: center;\"><b>Improved look of the environment</b></p>\n",
    "<img src='https://i.imgur.com/KYZCzAW.png' alt='Environment look overhaul' width='80%' >\n",
    "\n",
    "The first goal was still to implement a hunger mechanic where the fullness of an agent would slowly decrease and the agents can roam around the environment and pick berries from bushes when they get close to increase their fullness value. Each berry bush can hold up to 3 berries and slowly regrows berries once some have been foraged. An agent can forage a berry by walking close enough to a berry bush that has one or more berries. The agent then automatically forages the berry it does not explicitly have to clarify its intent to forage.\n",
    "\n",
    "<p style=\"text-align: center;\"><b>A hungry agent foraging berries</b></p>\n",
    "<img src='https://i.imgur.com/gU5r8qY.gif' alt='Berry foraging animation' width='30%' >\n"
   ]
  },
  {
   "cell_type": "markdown",
   "id": "eead7959",
   "metadata": {},
   "source": [
    "### Implementing Neat in individual challenge\n",
    "\n",
    "The plan was to implement Neat just like I did with snake, however it was more difficult in this instance, because the Neat library only allows you to make a whole generation at once instead of just a single agent. This is a problem because I want the environment to look fluid and lived in, instead of a battle royale where the agents survive until they all die and a new generation is instantly created. \n",
    "To solve this problem I created a waiting room where I can put agents that are created by Neat, but should not yet be born in the environment. And every frame there is a small chance that an agent from the waiting room will be released into the environment. This implementation worked, but still had the problem of the waiting room going empty resulting in no agents being born for a long time. This issue was solved by copying an agent that is doing well currently and placing that copy in the environment instead if the waiting room is empty.\n",
    "\n",
    "In contrast to the Snake AI the fitness function for my individual challenge is very simple: the longer an agent survives, the higher its score. I could not add things to its score such as bonus points for picking berries as this could result in agents learning to forage berries even though they already have a full hunger bar.\n",
    "\n",
    "Figuring out the outputs for the network was also not too difficult. Just an output for the 8 possible directions the agent can move in and 1 output for if the agent wants to keep standing still. \n",
    "\n",
    "The first strategy the agents came up with was to find a single bush and keep getting berries from that one bush, and as long as no other agents would choose the same bush they could survive for a long time. Even though the agents once again figured out the easiest option, it was not the behaviour I was looking for so I changed the regrow rate on the bushes so it would be impossible for an agent to survive with only a single bush."
   ]
  },
  {
   "cell_type": "markdown",
   "id": "a01dfe20",
   "metadata": {},
   "source": [
    "### Neural network inputs\n",
    "\n",
    "The most difficult about this challenge was figuring out good inputs for the neural network. The inputs I started with were the following:\n",
    "- The x and y location of the agent\n",
    "- The delta x and y to the closest berry bush\n",
    "- The amoung of berries on the closest berry bush\n",
    "- The current direction of the agent\n",
    "- Its fullness (hunger) value\n",
    "\n",
    "These inputs are similar to the inputs I used in the snake AI, but after training the AI it only slightly improved, and it didn't seem like would improve much further after training for longer. This was really surpsising to me, as I would have thought that just walking around and looking for berry bushes would be a really easy task for the AI to accomplish.\n",
    "\n",
    "The reason I thought the inputs are flawed is that just giving information about the closest tree does not resemble how humans would see the environment. After struggling with this I went to the consultants and they advised me to look at scholarly atricles about projects that are tackling a similar problem. This seemed like a great idea and after not too long I found a great article about a Neat algorithm playing the first level of Mario. \n",
    "\n",
    "<p style=\"text-align: center;\"><b>Neat Mario</b></p>\n",
    "<img src='https://i.imgur.com/sWDTouR.png' alt='Neat Mario screenshot' width='60%' >\n",
    "\n",
    "In the top left of the screenshot is an image of what the AI can see\n",
    "\n",
    "<img src='https://i.imgur.com/PZiUZB7.png' alt='Environment look overhaul' width='30%' >\n",
    "\n",
    "and as seen in the image, the AI cannot see every single pixel as that would be way too many inputs, but it can see the most important parts of the entire screen: the blocks that he can walk on and the enemies he needs to avoid.\n",
    "\n",
    "I tried a similar approach of giving the AI as much information as possible about the environment without giving it too many inputs by cutting up what is on the screen in smaller sections and letting the AI know what the most important object is in each section.\n",
    "\n",
    "<img src='https://i.imgur.com/2y3AN89.png' alt='Input Explanation' width='80%' >\n",
    "\n",
    "First I took the 3x3 area surrounding an agent as its field of view. Then I split up each of those 9 blocks into sections of 4 resulting in 9*4 = 36 inputs.\n",
    "But I also added a population input telling an agent how many other agents are in each of the 9 sections, which of course is another 9 inputs.\n",
    "I also kept the inputs telling the agent about its current direction, location and hunger value.\n",
    "\n",
    "While working on improving the inputs I also started implementing the cold mechanic where agents get a cold bar that slowly depletes and they can cut down a bush and turn it into a campfire that refills the cold bar of all the agents that stand close.\n",
    "And after the campfire dies down a sapling will appear and slowly regrow into a bush.\n",
    "\n",
    "<p style=\"text-align: center;\"><b>An agent creating a campfire</b></p>\n",
    "<img src='https://i.imgur.com/RhP9egq.gif' alt='Creating campfire animation' width='30%' >"
   ]
  },
  {
   "cell_type": "markdown",
   "id": "56a3a762",
   "metadata": {},
   "source": [
    "### Training\n",
    "\n",
    "Because I expected this training process to take a while I started training the AI on Azure by deploying it as a Docker container, but even after training for a long time the AI is not surviving for a long time. I expect this is because there are a lot of agents trying to look for food at the same time, making it way harder for a single agent to find a bush that is not empty. And when an agent gets better its competition gets better also, so my next step would have been to try a more isolated environment and see if that would make a difference. But since I only arrived at this point near the end of the semester and I still had some learning outcomes to prove I have not been able to try and improve the agents even more."
   ]
  },
  {
   "cell_type": "markdown",
   "id": "f584d0b7",
   "metadata": {},
   "source": [
    "### Data collection\n",
    "\n",
    "I wanted to try and prove the data preparation learning outcome with this project by gathering data produced by the environment. I used Pandas to make a dataframe with information about how many berries got foraged each day and I kept track of the population growth / decline and if the agents were dying of starvation or hypothermia. I was able to visualize this data on a web page by uploading the csv to Google docs and then using the google docs API to access the data as JSON and put it in a graph library. "
   ]
  }
 ],
 "metadata": {
  "kernelspec": {
   "display_name": "Python 3 (ipykernel)",
   "language": "python",
   "name": "python3"
  },
  "language_info": {
   "codemirror_mode": {
    "name": "ipython",
    "version": 3
   },
   "file_extension": ".py",
   "mimetype": "text/x-python",
   "name": "python",
   "nbconvert_exporter": "python",
   "pygments_lexer": "ipython3",
   "version": "3.9.12"
  },
  "toc": {
   "base_numbering": 1,
   "nav_menu": {},
   "number_sections": true,
   "sideBar": true,
   "skip_h1_title": false,
   "title_cell": "Table of Contents",
   "title_sidebar": "Contents",
   "toc_cell": false,
   "toc_position": {},
   "toc_section_display": true,
   "toc_window_display": false
  }
 },
 "nbformat": 4,
 "nbformat_minor": 5
}
